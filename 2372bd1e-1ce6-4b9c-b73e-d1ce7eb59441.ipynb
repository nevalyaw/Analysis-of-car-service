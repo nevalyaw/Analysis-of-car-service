{
 "cells": [
  {
   "cell_type": "markdown",
   "metadata": {},
   "source": [
    "# Определение стоимости автомобилей"
   ]
  },
  {
   "cell_type": "markdown",
   "metadata": {},
   "source": [
    "Сервис по продаже автомобилей с пробегом «Не бит, не крашен» разрабатывает приложение для привлечения новых клиентов. В нём можно быстро узнать рыночную стоимость своего автомобиля. В вашем распоряжении исторические данные: технические характеристики, комплектации и цены автомобилей. Вам нужно построить модель для определения стоимости. \n",
    "\n",
    "Заказчику важны:\n",
    "\n",
    "- качество предсказания;\n",
    "- скорость предсказания;\n",
    "- время обучения."
   ]
  },
  {
   "cell_type": "markdown",
   "metadata": {},
   "source": [
    "Перед нами стоит несколько задач. \n",
    "\n",
    "Первая — обучить несколько моделей для предсказаний стоимости автомобиля на основе данных заказчика. Вторая задача — сравнить скорости обучения, скорости предсказаний и точность моделей, выбрать для заказчика лучший вариант.\n",
    "  \n",
    "# Цель исследования:\n",
    "\n",
    "  1) Изучить исходные данные.\\\n",
    "  2) Обработать данные.\\\n",
    "  3) Выполнить подготовку и обучение моделей.\\\n",
    "  4) Выбрать лучшую модель по скорости обучения, предсказания и точности.\\\n",
    "  6) Написание итогового вывода.\n",
    "  \n",
    "# Ход исследования:\n",
    "  \n",
    "   Данные получим из файла autos.csv. О качестве данных ничего не известно, поэтому необходимо будет тщательно изучить их.\n",
    "   \n",
    "   На этапе предобработки данных найдём все пропущенные значения, обработаем их, удалим явные выбросы, избавимся от дубликатов. После этого исследуем зависимости между параметрами, построим необходимые диаграммы и приступим к обучению модели по прогнозам.\n",
    "   \n",
    "   Таким образом, работа состоит из следующих этапов:\n",
    "   \n",
    "   - обзор полученных данных;\n",
    "   - предобработка данных;\n",
    "   - проведение анализа по конкретным столбцам;\n",
    "   - обработка данных для модели МО;\n",
    "   - обучение моделей;\n",
    "   - выбор лучшей модели;\n",
    "   - написание общего вывода."
   ]
  },
  {
   "cell_type": "markdown",
   "metadata": {},
   "source": [
    "## Подготовка данных"
   ]
  },
  {
   "cell_type": "code",
   "execution_count": 1,
   "metadata": {},
   "outputs": [],
   "source": [
    "# Блок импорта:\n",
    "import pandas as pd\n",
    "import numpy as np\n",
    "import matplotlib.pyplot as plt\n",
    "import math\n",
    "\n",
    "from sklearn.tree import DecisionTreeRegressor\n",
    "from sklearn.ensemble import RandomForestRegressor\n",
    "from sklearn.linear_model import LinearRegression\n",
    "from sklearn.dummy import DummyRegressor\n",
    "\n",
    "from sklearn.linear_model import Ridge\n",
    "\n",
    "from sklearn.model_selection import train_test_split\n",
    "from sklearn.model_selection import GridSearchCV\n",
    "from sklearn.preprocessing import OneHotEncoder\n",
    "from sklearn.preprocessing import StandardScaler\n",
    "from sklearn.preprocessing import OrdinalEncoder\n",
    "from sklearn.preprocessing import LabelEncoder\n",
    "from sklearn.base import BaseEstimator\n",
    "from sklearn.metrics import mean_squared_error as mse\n",
    "from sklearn.metrics import  make_scorer\n",
    "\n",
    "from catboost import CatBoostRegressor\n",
    "from lightgbm import LGBMRegressor\n",
    "import lightgbm as lgb"
   ]
  },
  {
   "cell_type": "markdown",
   "metadata": {},
   "source": [
    "Выгрузим данные и выведем общую информацию."
   ]
  },
  {
   "cell_type": "code",
   "execution_count": 2,
   "metadata": {},
   "outputs": [
    {
     "data": {
      "text/html": [
       "<div>\n",
       "<style scoped>\n",
       "    .dataframe tbody tr th:only-of-type {\n",
       "        vertical-align: middle;\n",
       "    }\n",
       "\n",
       "    .dataframe tbody tr th {\n",
       "        vertical-align: top;\n",
       "    }\n",
       "\n",
       "    .dataframe thead th {\n",
       "        text-align: right;\n",
       "    }\n",
       "</style>\n",
       "<table border=\"1\" class=\"dataframe\">\n",
       "  <thead>\n",
       "    <tr style=\"text-align: right;\">\n",
       "      <th></th>\n",
       "      <th>DateCrawled</th>\n",
       "      <th>Price</th>\n",
       "      <th>VehicleType</th>\n",
       "      <th>RegistrationYear</th>\n",
       "      <th>Gearbox</th>\n",
       "      <th>Power</th>\n",
       "      <th>Model</th>\n",
       "      <th>Kilometer</th>\n",
       "      <th>RegistrationMonth</th>\n",
       "      <th>FuelType</th>\n",
       "      <th>Brand</th>\n",
       "      <th>Repaired</th>\n",
       "      <th>DateCreated</th>\n",
       "      <th>NumberOfPictures</th>\n",
       "      <th>PostalCode</th>\n",
       "      <th>LastSeen</th>\n",
       "    </tr>\n",
       "  </thead>\n",
       "  <tbody>\n",
       "    <tr>\n",
       "      <th>0</th>\n",
       "      <td>2016-03-24 11:52:17</td>\n",
       "      <td>480</td>\n",
       "      <td>NaN</td>\n",
       "      <td>1993</td>\n",
       "      <td>manual</td>\n",
       "      <td>0</td>\n",
       "      <td>golf</td>\n",
       "      <td>150000</td>\n",
       "      <td>0</td>\n",
       "      <td>petrol</td>\n",
       "      <td>volkswagen</td>\n",
       "      <td>NaN</td>\n",
       "      <td>2016-03-24 00:00:00</td>\n",
       "      <td>0</td>\n",
       "      <td>70435</td>\n",
       "      <td>2016-04-07 03:16:57</td>\n",
       "    </tr>\n",
       "    <tr>\n",
       "      <th>1</th>\n",
       "      <td>2016-03-24 10:58:45</td>\n",
       "      <td>18300</td>\n",
       "      <td>coupe</td>\n",
       "      <td>2011</td>\n",
       "      <td>manual</td>\n",
       "      <td>190</td>\n",
       "      <td>NaN</td>\n",
       "      <td>125000</td>\n",
       "      <td>5</td>\n",
       "      <td>gasoline</td>\n",
       "      <td>audi</td>\n",
       "      <td>yes</td>\n",
       "      <td>2016-03-24 00:00:00</td>\n",
       "      <td>0</td>\n",
       "      <td>66954</td>\n",
       "      <td>2016-04-07 01:46:50</td>\n",
       "    </tr>\n",
       "    <tr>\n",
       "      <th>2</th>\n",
       "      <td>2016-03-14 12:52:21</td>\n",
       "      <td>9800</td>\n",
       "      <td>suv</td>\n",
       "      <td>2004</td>\n",
       "      <td>auto</td>\n",
       "      <td>163</td>\n",
       "      <td>grand</td>\n",
       "      <td>125000</td>\n",
       "      <td>8</td>\n",
       "      <td>gasoline</td>\n",
       "      <td>jeep</td>\n",
       "      <td>NaN</td>\n",
       "      <td>2016-03-14 00:00:00</td>\n",
       "      <td>0</td>\n",
       "      <td>90480</td>\n",
       "      <td>2016-04-05 12:47:46</td>\n",
       "    </tr>\n",
       "    <tr>\n",
       "      <th>3</th>\n",
       "      <td>2016-03-17 16:54:04</td>\n",
       "      <td>1500</td>\n",
       "      <td>small</td>\n",
       "      <td>2001</td>\n",
       "      <td>manual</td>\n",
       "      <td>75</td>\n",
       "      <td>golf</td>\n",
       "      <td>150000</td>\n",
       "      <td>6</td>\n",
       "      <td>petrol</td>\n",
       "      <td>volkswagen</td>\n",
       "      <td>no</td>\n",
       "      <td>2016-03-17 00:00:00</td>\n",
       "      <td>0</td>\n",
       "      <td>91074</td>\n",
       "      <td>2016-03-17 17:40:17</td>\n",
       "    </tr>\n",
       "    <tr>\n",
       "      <th>4</th>\n",
       "      <td>2016-03-31 17:25:20</td>\n",
       "      <td>3600</td>\n",
       "      <td>small</td>\n",
       "      <td>2008</td>\n",
       "      <td>manual</td>\n",
       "      <td>69</td>\n",
       "      <td>fabia</td>\n",
       "      <td>90000</td>\n",
       "      <td>7</td>\n",
       "      <td>gasoline</td>\n",
       "      <td>skoda</td>\n",
       "      <td>no</td>\n",
       "      <td>2016-03-31 00:00:00</td>\n",
       "      <td>0</td>\n",
       "      <td>60437</td>\n",
       "      <td>2016-04-06 10:17:21</td>\n",
       "    </tr>\n",
       "  </tbody>\n",
       "</table>\n",
       "</div>"
      ],
      "text/plain": [
       "           DateCrawled  Price VehicleType  RegistrationYear Gearbox  Power  \\\n",
       "0  2016-03-24 11:52:17    480         NaN              1993  manual      0   \n",
       "1  2016-03-24 10:58:45  18300       coupe              2011  manual    190   \n",
       "2  2016-03-14 12:52:21   9800         suv              2004    auto    163   \n",
       "3  2016-03-17 16:54:04   1500       small              2001  manual     75   \n",
       "4  2016-03-31 17:25:20   3600       small              2008  manual     69   \n",
       "\n",
       "   Model  Kilometer  RegistrationMonth  FuelType       Brand Repaired  \\\n",
       "0   golf     150000                  0    petrol  volkswagen      NaN   \n",
       "1    NaN     125000                  5  gasoline        audi      yes   \n",
       "2  grand     125000                  8  gasoline        jeep      NaN   \n",
       "3   golf     150000                  6    petrol  volkswagen       no   \n",
       "4  fabia      90000                  7  gasoline       skoda       no   \n",
       "\n",
       "           DateCreated  NumberOfPictures  PostalCode             LastSeen  \n",
       "0  2016-03-24 00:00:00                 0       70435  2016-04-07 03:16:57  \n",
       "1  2016-03-24 00:00:00                 0       66954  2016-04-07 01:46:50  \n",
       "2  2016-03-14 00:00:00                 0       90480  2016-04-05 12:47:46  \n",
       "3  2016-03-17 00:00:00                 0       91074  2016-03-17 17:40:17  \n",
       "4  2016-03-31 00:00:00                 0       60437  2016-04-06 10:17:21  "
      ]
     },
     "metadata": {},
     "output_type": "display_data"
    },
    {
     "name": "stdout",
     "output_type": "stream",
     "text": [
      "<class 'pandas.core.frame.DataFrame'>\n",
      "RangeIndex: 354369 entries, 0 to 354368\n",
      "Data columns (total 16 columns):\n",
      " #   Column             Non-Null Count   Dtype \n",
      "---  ------             --------------   ----- \n",
      " 0   DateCrawled        354369 non-null  object\n",
      " 1   Price              354369 non-null  int64 \n",
      " 2   VehicleType        316879 non-null  object\n",
      " 3   RegistrationYear   354369 non-null  int64 \n",
      " 4   Gearbox            334536 non-null  object\n",
      " 5   Power              354369 non-null  int64 \n",
      " 6   Model              334664 non-null  object\n",
      " 7   Kilometer          354369 non-null  int64 \n",
      " 8   RegistrationMonth  354369 non-null  int64 \n",
      " 9   FuelType           321474 non-null  object\n",
      " 10  Brand              354369 non-null  object\n",
      " 11  Repaired           283215 non-null  object\n",
      " 12  DateCreated        354369 non-null  object\n",
      " 13  NumberOfPictures   354369 non-null  int64 \n",
      " 14  PostalCode         354369 non-null  int64 \n",
      " 15  LastSeen           354369 non-null  object\n",
      "dtypes: int64(7), object(9)\n",
      "memory usage: 43.3+ MB\n"
     ]
    }
   ],
   "source": [
    "# Загрузка данных:\n",
    "auto = pd.read_csv('/datasets/autos.csv')\n",
    "\n",
    "display(auto.head())\n",
    "auto.info()"
   ]
  },
  {
   "cell_type": "markdown",
   "metadata": {},
   "source": [
    "Сразу видна проблема пропусков, их достаточно много в некоторых столбцах. Также столбцы формата даты и времени имеют не тот тип данных, возможно, придётся обработать."
   ]
  },
  {
   "cell_type": "markdown",
   "metadata": {},
   "source": [
    "### Предобработка данных"
   ]
  },
  {
   "cell_type": "markdown",
   "metadata": {},
   "source": [
    "Начнём с обработки пропусков. Они содержатся в следующдих столбцах: VehicleType (тип кузова), Gearbox (тип коробки передач), Model (модель автомобиля), FuelType (тип топлива), Repaired (была ли машина в ремонте). Все параметры важны для определения цены автомобиля, особенно Repaired (иронично переплетается с названием сервиса). \n",
    "Выведем некоторые строчки с пропусками, возможно, это одни и те же машины."
   ]
  },
  {
   "cell_type": "code",
   "execution_count": 3,
   "metadata": {},
   "outputs": [
    {
     "data": {
      "text/html": [
       "<div>\n",
       "<style scoped>\n",
       "    .dataframe tbody tr th:only-of-type {\n",
       "        vertical-align: middle;\n",
       "    }\n",
       "\n",
       "    .dataframe tbody tr th {\n",
       "        vertical-align: top;\n",
       "    }\n",
       "\n",
       "    .dataframe thead th {\n",
       "        text-align: right;\n",
       "    }\n",
       "</style>\n",
       "<table border=\"1\" class=\"dataframe\">\n",
       "  <thead>\n",
       "    <tr style=\"text-align: right;\">\n",
       "      <th></th>\n",
       "      <th>DateCrawled</th>\n",
       "      <th>Price</th>\n",
       "      <th>VehicleType</th>\n",
       "      <th>RegistrationYear</th>\n",
       "      <th>Gearbox</th>\n",
       "      <th>Power</th>\n",
       "      <th>Model</th>\n",
       "      <th>Kilometer</th>\n",
       "      <th>RegistrationMonth</th>\n",
       "      <th>FuelType</th>\n",
       "      <th>Brand</th>\n",
       "      <th>Repaired</th>\n",
       "      <th>DateCreated</th>\n",
       "      <th>NumberOfPictures</th>\n",
       "      <th>PostalCode</th>\n",
       "      <th>LastSeen</th>\n",
       "    </tr>\n",
       "  </thead>\n",
       "  <tbody>\n",
       "    <tr>\n",
       "      <th>0</th>\n",
       "      <td>2016-03-24 11:52:17</td>\n",
       "      <td>480</td>\n",
       "      <td>NaN</td>\n",
       "      <td>1993</td>\n",
       "      <td>manual</td>\n",
       "      <td>0</td>\n",
       "      <td>golf</td>\n",
       "      <td>150000</td>\n",
       "      <td>0</td>\n",
       "      <td>petrol</td>\n",
       "      <td>volkswagen</td>\n",
       "      <td>NaN</td>\n",
       "      <td>2016-03-24 00:00:00</td>\n",
       "      <td>0</td>\n",
       "      <td>70435</td>\n",
       "      <td>2016-04-07 03:16:57</td>\n",
       "    </tr>\n",
       "    <tr>\n",
       "      <th>16</th>\n",
       "      <td>2016-04-01 12:46:46</td>\n",
       "      <td>300</td>\n",
       "      <td>NaN</td>\n",
       "      <td>2016</td>\n",
       "      <td>NaN</td>\n",
       "      <td>60</td>\n",
       "      <td>polo</td>\n",
       "      <td>150000</td>\n",
       "      <td>0</td>\n",
       "      <td>petrol</td>\n",
       "      <td>volkswagen</td>\n",
       "      <td>NaN</td>\n",
       "      <td>2016-04-01 00:00:00</td>\n",
       "      <td>0</td>\n",
       "      <td>38871</td>\n",
       "      <td>2016-04-01 12:46:46</td>\n",
       "    </tr>\n",
       "    <tr>\n",
       "      <th>22</th>\n",
       "      <td>2016-03-23 14:52:51</td>\n",
       "      <td>2900</td>\n",
       "      <td>NaN</td>\n",
       "      <td>2018</td>\n",
       "      <td>manual</td>\n",
       "      <td>90</td>\n",
       "      <td>meriva</td>\n",
       "      <td>150000</td>\n",
       "      <td>5</td>\n",
       "      <td>petrol</td>\n",
       "      <td>opel</td>\n",
       "      <td>no</td>\n",
       "      <td>2016-03-23 00:00:00</td>\n",
       "      <td>0</td>\n",
       "      <td>49716</td>\n",
       "      <td>2016-03-31 01:16:33</td>\n",
       "    </tr>\n",
       "    <tr>\n",
       "      <th>26</th>\n",
       "      <td>2016-03-10 19:38:18</td>\n",
       "      <td>5555</td>\n",
       "      <td>NaN</td>\n",
       "      <td>2017</td>\n",
       "      <td>manual</td>\n",
       "      <td>125</td>\n",
       "      <td>c4</td>\n",
       "      <td>125000</td>\n",
       "      <td>4</td>\n",
       "      <td>NaN</td>\n",
       "      <td>citroen</td>\n",
       "      <td>no</td>\n",
       "      <td>2016-03-10 00:00:00</td>\n",
       "      <td>0</td>\n",
       "      <td>31139</td>\n",
       "      <td>2016-03-16 09:16:46</td>\n",
       "    </tr>\n",
       "    <tr>\n",
       "      <th>31</th>\n",
       "      <td>2016-03-29 16:57:02</td>\n",
       "      <td>899</td>\n",
       "      <td>NaN</td>\n",
       "      <td>2016</td>\n",
       "      <td>manual</td>\n",
       "      <td>60</td>\n",
       "      <td>clio</td>\n",
       "      <td>150000</td>\n",
       "      <td>6</td>\n",
       "      <td>petrol</td>\n",
       "      <td>renault</td>\n",
       "      <td>NaN</td>\n",
       "      <td>2016-03-29 00:00:00</td>\n",
       "      <td>0</td>\n",
       "      <td>37075</td>\n",
       "      <td>2016-03-29 17:43:07</td>\n",
       "    </tr>\n",
       "  </tbody>\n",
       "</table>\n",
       "</div>"
      ],
      "text/plain": [
       "            DateCrawled  Price VehicleType  RegistrationYear Gearbox  Power  \\\n",
       "0   2016-03-24 11:52:17    480         NaN              1993  manual      0   \n",
       "16  2016-04-01 12:46:46    300         NaN              2016     NaN     60   \n",
       "22  2016-03-23 14:52:51   2900         NaN              2018  manual     90   \n",
       "26  2016-03-10 19:38:18   5555         NaN              2017  manual    125   \n",
       "31  2016-03-29 16:57:02    899         NaN              2016  manual     60   \n",
       "\n",
       "     Model  Kilometer  RegistrationMonth FuelType       Brand Repaired  \\\n",
       "0     golf     150000                  0   petrol  volkswagen      NaN   \n",
       "16    polo     150000                  0   petrol  volkswagen      NaN   \n",
       "22  meriva     150000                  5   petrol        opel       no   \n",
       "26      c4     125000                  4      NaN     citroen       no   \n",
       "31    clio     150000                  6   petrol     renault      NaN   \n",
       "\n",
       "            DateCreated  NumberOfPictures  PostalCode             LastSeen  \n",
       "0   2016-03-24 00:00:00                 0       70435  2016-04-07 03:16:57  \n",
       "16  2016-04-01 00:00:00                 0       38871  2016-04-01 12:46:46  \n",
       "22  2016-03-23 00:00:00                 0       49716  2016-03-31 01:16:33  \n",
       "26  2016-03-10 00:00:00                 0       31139  2016-03-16 09:16:46  \n",
       "31  2016-03-29 00:00:00                 0       37075  2016-03-29 17:43:07  "
      ]
     },
     "metadata": {},
     "output_type": "display_data"
    }
   ],
   "source": [
    "# Определим строки с пропущенными данными:\n",
    "display(auto[auto['VehicleType'].isna()].head())"
   ]
  },
  {
   "cell_type": "markdown",
   "metadata": {},
   "source": [
    "Теория не оправдала себя, пропуски не взаимосвязаны. Тогда посчитаем их долю по каждому столбцу от общего количества строк и решим, можно ли их удалить."
   ]
  },
  {
   "cell_type": "code",
   "execution_count": 4,
   "metadata": {},
   "outputs": [
    {
     "name": "stdout",
     "output_type": "stream",
     "text": [
      "Доля пропусков по типу кузова: 0.1057936783409384\n",
      "Доля пропусков по типу коробки передач: 0.055967085156997366\n",
      "Доля пропусков по модели автомобиля: 0.055605879746817584\n",
      "Доля пропусков по типу топлива: 0.09282696849893755\n",
      "Доля пропусков по состоянию машины: 0.20079070121822168\n"
     ]
    }
   ],
   "source": [
    "# Определяем долю пропусков:\n",
    "print('Доля пропусков по типу кузова:', len(auto[auto['VehicleType'].isna()])/len(auto))\n",
    "print('Доля пропусков по типу коробки передач:', len(auto[auto['Gearbox'].isna()])/len(auto))\n",
    "print('Доля пропусков по модели автомобиля:', len(auto[auto['Model'].isna()])/len(auto))\n",
    "print('Доля пропусков по типу топлива:', len(auto[auto['FuelType'].isna()])/len(auto))\n",
    "print('Доля пропусков по состоянию машины:', len(auto[auto['Repaired'].isna()])/len(auto))"
   ]
  },
  {
   "cell_type": "markdown",
   "metadata": {},
   "source": [
    "По всем показателям, кроме состояния машины, значение не превышает 10%. В последнем столбце эта величина около 20%. Это достаточно много, что неприятно. Постараемся сохранить как можно больше"
   ]
  },
  {
   "cell_type": "code",
   "execution_count": 5,
   "metadata": {},
   "outputs": [
    {
     "name": "stdout",
     "output_type": "stream",
     "text": [
      "0    247161\n",
      "1     71154\n",
      "2     36054\n",
      "Name: Repaired, dtype: int64\n"
     ]
    }
   ],
   "source": [
    "# Наибольшее количество пропусков (20% данных) по состоянию машины. Получается, мы знаем, был ремонт или нет, наверняка, \n",
    "# у остальных - не понятно. Произведём категоризацию этого столбца, превратив его в количественный признак: 0 - не было ремонта;\n",
    "# 1- нет информации; 2 - был ремонт:\n",
    "auto['Repaired'] = auto['Repaired'].fillna(1)\n",
    "\n",
    "def repaired_clas(value):\n",
    "    if value == 'no':\n",
    "        return 0\n",
    "    elif value == 'yes':\n",
    "        return 2\n",
    "    else:\n",
    "        return value\n",
    "\n",
    "auto['Repaired'] = auto['Repaired'].apply(repaired_clas)\n",
    "print(auto['Repaired'].value_counts())"
   ]
  },
  {
   "cell_type": "markdown",
   "metadata": {},
   "source": [
    "Далее по объёмам пропусков идёт тип кузова."
   ]
  },
  {
   "cell_type": "code",
   "execution_count": 6,
   "metadata": {},
   "outputs": [
    {
     "name": "stdout",
     "output_type": "stream",
     "text": [
      "sedan          91457\n",
      "small          79831\n",
      "wagon          65166\n",
      "bus            28775\n",
      "convertible    20203\n",
      "coupe          16163\n",
      "suv            11996\n",
      "other           3288\n",
      "Name: VehicleType, dtype: int64\n"
     ]
    }
   ],
   "source": [
    "# Посмотрим на уникальные значения:\n",
    "print(auto['VehicleType'].value_counts())"
   ]
  },
  {
   "cell_type": "markdown",
   "metadata": {},
   "source": [
    "Заменить на какой-то конкретный тип не представляется возможным из-за непредсказуемости такого хода для обучения модели. Заменим все NaN'ы на unknown. Учитывая, что есть задача сохранить как можно больше данных, поступим аналогичным образом с другими пропусками, всё равно их количество невелико."
   ]
  },
  {
   "cell_type": "code",
   "execution_count": 7,
   "metadata": {},
   "outputs": [
    {
     "name": "stdout",
     "output_type": "stream",
     "text": [
      "<class 'pandas.core.frame.DataFrame'>\n",
      "RangeIndex: 354369 entries, 0 to 354368\n",
      "Data columns (total 16 columns):\n",
      " #   Column             Non-Null Count   Dtype \n",
      "---  ------             --------------   ----- \n",
      " 0   DateCrawled        354369 non-null  object\n",
      " 1   Price              354369 non-null  int64 \n",
      " 2   VehicleType        354369 non-null  object\n",
      " 3   RegistrationYear   354369 non-null  int64 \n",
      " 4   Gearbox            354369 non-null  object\n",
      " 5   Power              354369 non-null  int64 \n",
      " 6   Model              354369 non-null  object\n",
      " 7   Kilometer          354369 non-null  int64 \n",
      " 8   RegistrationMonth  354369 non-null  int64 \n",
      " 9   FuelType           354369 non-null  object\n",
      " 10  Brand              354369 non-null  object\n",
      " 11  Repaired           354369 non-null  int64 \n",
      " 12  DateCreated        354369 non-null  object\n",
      " 13  NumberOfPictures   354369 non-null  int64 \n",
      " 14  PostalCode         354369 non-null  int64 \n",
      " 15  LastSeen           354369 non-null  object\n",
      "dtypes: int64(8), object(8)\n",
      "memory usage: 43.3+ MB\n"
     ]
    }
   ],
   "source": [
    "# Заменяем все NaN`ы:\n",
    "auto['VehicleType'] = auto['VehicleType'].fillna('unknown')\n",
    "auto['Gearbox'] = auto['Gearbox'].fillna('unknown')\n",
    "auto['Model'] = auto['Model'].fillna('unknown')\n",
    "auto['FuelType'] = auto['FuelType'].fillna('unknown')\n",
    "\n",
    "auto.info()"
   ]
  },
  {
   "cell_type": "markdown",
   "metadata": {},
   "source": [
    "Таким образом, сохранили всю предоставленную таблицу. Теперь проверим корректность введённых качественных данных."
   ]
  },
  {
   "cell_type": "code",
   "execution_count": 8,
   "metadata": {},
   "outputs": [
    {
     "name": "stdout",
     "output_type": "stream",
     "text": [
      "Уникальные типы кузова: ['unknown' 'coupe' 'suv' 'small' 'sedan' 'convertible' 'bus' 'wagon'\n",
      " 'other']\n",
      "Уникальные типы коробки: ['manual' 'auto' 'unknown']\n",
      "Уникальные модели: ['golf' 'unknown' 'grand' 'fabia' '3er' '2_reihe' 'other' 'c_max'\n",
      " '3_reihe' 'passat' 'navara' 'ka' 'polo' 'twingo' 'a_klasse' 'scirocco'\n",
      " '5er' 'meriva' 'arosa' 'c4' 'civic' 'transporter' 'punto' 'e_klasse'\n",
      " 'clio' 'kadett' 'kangoo' 'corsa' 'one' 'fortwo' '1er' 'b_klasse' 'signum'\n",
      " 'astra' 'a8' 'jetta' 'fiesta' 'c_klasse' 'micra' 'vito' 'sprinter' '156'\n",
      " 'escort' 'forester' 'xc_reihe' 'scenic' 'a4' 'a1' 'insignia' 'combo'\n",
      " 'focus' 'tt' 'a6' 'jazz' 'omega' 'slk' '7er' '80' '147' '100' 'z_reihe'\n",
      " 'sportage' 'sorento' 'v40' 'ibiza' 'mustang' 'eos' 'touran' 'getz' 'a3'\n",
      " 'almera' 'megane' 'lupo' 'r19' 'zafira' 'caddy' 'mondeo' 'cordoba' 'colt'\n",
      " 'impreza' 'vectra' 'berlingo' 'tiguan' 'i_reihe' 'espace' 'sharan'\n",
      " '6_reihe' 'panda' 'up' 'seicento' 'ceed' '5_reihe' 'yeti' 'octavia' 'mii'\n",
      " 'rx_reihe' '6er' 'modus' 'fox' 'matiz' 'beetle' 'c1' 'rio' 'touareg'\n",
      " 'logan' 'spider' 'cuore' 's_max' 'a2' 'galaxy' 'c3' 'viano' 's_klasse'\n",
      " '1_reihe' 'avensis' 'roomster' 'sl' 'kaefer' 'santa' 'cooper' 'leon'\n",
      " '4_reihe' 'a5' '500' 'laguna' 'ptcruiser' 'clk' 'primera' 'x_reihe'\n",
      " 'exeo' '159' 'transit' 'juke' 'qashqai' 'carisma' 'accord' 'corolla'\n",
      " 'lanos' 'phaeton' 'verso' 'swift' 'rav' 'picanto' 'boxster' 'kalos'\n",
      " 'superb' 'stilo' 'alhambra' 'mx_reihe' 'roadster' 'ypsilon' 'cayenne'\n",
      " 'galant' 'justy' '90' 'sirion' 'crossfire' 'agila' 'duster' 'cr_reihe'\n",
      " 'v50' 'c_reihe' 'v_klasse' 'm_klasse' 'yaris' 'c5' 'aygo' 'cc' 'carnival'\n",
      " 'fusion' '911' 'bora' 'forfour' 'm_reihe' 'cl' 'tigra' '300c' 'spark'\n",
      " 'v70' 'kuga' 'x_type' 'ducato' 's_type' 'x_trail' 'toledo' 'altea'\n",
      " 'voyager' 'calibra' 'bravo' 'antara' 'tucson' 'citigo' 'jimny' 'wrangler'\n",
      " 'lybra' 'q7' 'lancer' 'captiva' 'c2' 'discovery' 'freelander' 'sandero'\n",
      " 'note' '900' 'cherokee' 'clubman' 'samara' 'defender' '601' 'cx_reihe'\n",
      " 'legacy' 'pajero' 'auris' 'niva' 's60' 'nubira' 'vivaro' 'g_klasse'\n",
      " 'lodgy' '850' 'range_rover' 'q3' 'serie_2' 'glk' 'charade' 'croma'\n",
      " 'outlander' 'doblo' 'musa' 'move' '9000' 'v60' '145' 'aveo' '200' 'b_max'\n",
      " 'range_rover_sport' 'terios' 'rangerover' 'q5' 'range_rover_evoque'\n",
      " 'materia' 'delta' 'gl' 'kalina' 'amarok' 'elefantino' 'i3' 'kappa'\n",
      " 'serie_3' 'serie_1']\n",
      "Уникальные типы топлива: ['petrol' 'gasoline' 'unknown' 'lpg' 'other' 'hybrid' 'cng' 'electric']\n",
      "Уникальные брэнды: ['volkswagen' 'audi' 'jeep' 'skoda' 'bmw' 'peugeot' 'ford' 'mazda'\n",
      " 'nissan' 'renault' 'mercedes_benz' 'opel' 'seat' 'citroen' 'honda' 'fiat'\n",
      " 'mini' 'smart' 'hyundai' 'sonstige_autos' 'alfa_romeo' 'subaru' 'volvo'\n",
      " 'mitsubishi' 'kia' 'suzuki' 'lancia' 'toyota' 'chevrolet' 'dacia'\n",
      " 'daihatsu' 'trabant' 'saab' 'chrysler' 'jaguar' 'daewoo' 'porsche'\n",
      " 'rover' 'land_rover' 'lada']\n",
      "Уникальные типы свежести: [1 2 0]\n",
      "Уникальные года регистрации: [1993 2011 2004 2001 2008 1995 1980 2014 1998 2005 1910 2016 2007 2009\n",
      " 2002 2018 1997 1990 2017 1981 2003 1994 1991 1984 2006 1999 2012 2010\n",
      " 2000 1992 2013 1996 1985 1989 2015 1982 1976 1983 1973 1111 1969 1971\n",
      " 1987 1986 1988 1970 1965 1945 1925 1974 1979 1955 1978 1972 1968 1977\n",
      " 1961 1960 1966 1975 1963 1964 5000 1954 1958 1967 1959 9999 1956 3200\n",
      " 1000 1941 8888 1500 2200 4100 1962 1929 1957 1940 3000 2066 1949 2019\n",
      " 1937 1951 1800 1953 1234 8000 5300 9000 2900 6000 5900 5911 1933 1400\n",
      " 1950 4000 1948 1952 1200 8500 1932 1255 3700 3800 4800 1942 7000 1935\n",
      " 1936 6500 1923 2290 2500 1930 1001 9450 1944 1943 1934 1938 1688 2800\n",
      " 1253 1928 1919 5555 5600 1600 2222 1039 9996 1300 8455 1931 1915 4500\n",
      " 1920 1602 7800 9229 1947 1927 7100 8200 1946 7500 3500]\n"
     ]
    }
   ],
   "source": [
    "# Уникальные записи в столбцах:\n",
    "print('Уникальные типы кузова:', auto['VehicleType'].unique())\n",
    "print('Уникальные типы коробки:', auto['Gearbox'].unique())\n",
    "print('Уникальные модели:', auto['Model'].unique())\n",
    "print('Уникальные типы топлива:', auto['FuelType'].unique())\n",
    "print('Уникальные брэнды:', auto['Brand'].unique())\n",
    "print('Уникальные типы свежести:', auto['Repaired'].unique())\n",
    "print('Уникальные года регистрации:', auto['RegistrationYear'].unique())"
   ]
  },
  {
   "cell_type": "markdown",
   "metadata": {},
   "source": [
    "Видим аномальные значения по годам регистрации автомобилей, установим разумные рамки и очистим данные. "
   ]
  },
  {
   "cell_type": "code",
   "execution_count": 9,
   "metadata": {},
   "outputs": [
    {
     "name": "stdout",
     "output_type": "stream",
     "text": [
      "<class 'pandas.core.frame.DataFrame'>\n",
      "Int64Index: 350224 entries, 0 to 354368\n",
      "Data columns (total 16 columns):\n",
      " #   Column             Non-Null Count   Dtype \n",
      "---  ------             --------------   ----- \n",
      " 0   DateCrawled        350224 non-null  object\n",
      " 1   Price              350224 non-null  int64 \n",
      " 2   VehicleType        350224 non-null  object\n",
      " 3   RegistrationYear   350224 non-null  int64 \n",
      " 4   Gearbox            350224 non-null  object\n",
      " 5   Power              350224 non-null  int64 \n",
      " 6   Model              350224 non-null  object\n",
      " 7   Kilometer          350224 non-null  int64 \n",
      " 8   RegistrationMonth  350224 non-null  int64 \n",
      " 9   FuelType           350224 non-null  object\n",
      " 10  Brand              350224 non-null  object\n",
      " 11  Repaired           350224 non-null  int64 \n",
      " 12  DateCreated        350224 non-null  object\n",
      " 13  NumberOfPictures   350224 non-null  int64 \n",
      " 14  PostalCode         350224 non-null  int64 \n",
      " 15  LastSeen           350224 non-null  object\n",
      "dtypes: int64(8), object(8)\n",
      "memory usage: 45.4+ MB\n"
     ]
    }
   ],
   "source": [
    "# Убираем аномальные года регистрации:\n",
    "auto = auto[(auto['RegistrationYear']>1980) & (auto['RegistrationYear']<2023)]\n",
    "auto.info()"
   ]
  },
  {
   "cell_type": "markdown",
   "metadata": {},
   "source": [
    "Потеряли всего лишь 4000 строк. Типы данных менять не будем ввиду бесполезности дат для анализа.\n",
    "Теперь проверим таблицу на дубликаты."
   ]
  },
  {
   "cell_type": "code",
   "execution_count": 10,
   "metadata": {},
   "outputs": [
    {
     "name": "stdout",
     "output_type": "stream",
     "text": [
      "Всего дубликатов: 4\n"
     ]
    }
   ],
   "source": [
    "# Проверка на явные дубликаты:\n",
    "print('Всего дубликатов:', auto.duplicated().sum())"
   ]
  },
  {
   "cell_type": "code",
   "execution_count": 11,
   "metadata": {},
   "outputs": [
    {
     "name": "stdout",
     "output_type": "stream",
     "text": [
      "Всего дубликатов: 0\n"
     ]
    }
   ],
   "source": [
    "# Удаляем явные дубликаты:\n",
    "auto = auto.drop_duplicates()\n",
    "print('Всего дубликатов:', auto.duplicated().sum())"
   ]
  },
  {
   "cell_type": "markdown",
   "metadata": {},
   "source": [
    "Неявные дубликаты можно попробовать опеределить по id пользователя, однако это сомнительная идея, т.к. у одного человека может быть несколько независимых друг от друга предложений, поэтому оставим, как есть."
   ]
  },
  {
   "cell_type": "markdown",
   "metadata": {},
   "source": [
    "Теперь посмотрим на количественные данные. Построим боксплоты и гистограммы для всех величин."
   ]
  },
  {
   "cell_type": "code",
   "execution_count": 12,
   "metadata": {},
   "outputs": [
    {
     "data": {
      "image/png": "[encoded data removed]",
      "text/plain": [
       "<Figure size 1440x1080 with 1 Axes>"
      ]
     },
     "metadata": {
      "needs_background": "light"
     },
     "output_type": "display_data"
    },
    {
     "data": {
      "text/html": [
       "<div>\n",
       "<style scoped>\n",
       "    .dataframe tbody tr th:only-of-type {\n",
       "        vertical-align: middle;\n",
       "    }\n",
       "\n",
       "    .dataframe tbody tr th {\n",
       "        vertical-align: top;\n",
       "    }\n",
       "\n",
       "    .dataframe thead th {\n",
       "        text-align: right;\n",
       "    }\n",
       "</style>\n",
       "<table border=\"1\" class=\"dataframe\">\n",
       "  <thead>\n",
       "    <tr style=\"text-align: right;\">\n",
       "      <th></th>\n",
       "      <th>count</th>\n",
       "      <th>mean</th>\n",
       "      <th>std</th>\n",
       "      <th>min</th>\n",
       "      <th>25%</th>\n",
       "      <th>50%</th>\n",
       "      <th>75%</th>\n",
       "      <th>max</th>\n",
       "    </tr>\n",
       "    <tr>\n",
       "      <th>Gearbox</th>\n",
       "      <th></th>\n",
       "      <th></th>\n",
       "      <th></th>\n",
       "      <th></th>\n",
       "      <th></th>\n",
       "      <th></th>\n",
       "      <th></th>\n",
       "      <th></th>\n",
       "    </tr>\n",
       "  </thead>\n",
       "  <tbody>\n",
       "    <tr>\n",
       "      <th>auto</th>\n",
       "      <td>65532.0</td>\n",
       "      <td>6816.039691</td>\n",
       "      <td>5383.439555</td>\n",
       "      <td>0.0</td>\n",
       "      <td>2250.0</td>\n",
       "      <td>5500.0</td>\n",
       "      <td>10500.0</td>\n",
       "      <td>20000.0</td>\n",
       "    </tr>\n",
       "    <tr>\n",
       "      <th>manual</th>\n",
       "      <td>265958.0</td>\n",
       "      <td>3957.809417</td>\n",
       "      <td>4106.947867</td>\n",
       "      <td>0.0</td>\n",
       "      <td>1000.0</td>\n",
       "      <td>2450.0</td>\n",
       "      <td>5500.0</td>\n",
       "      <td>20000.0</td>\n",
       "    </tr>\n",
       "    <tr>\n",
       "      <th>unknown</th>\n",
       "      <td>18730.0</td>\n",
       "      <td>2142.414949</td>\n",
       "      <td>2940.058583</td>\n",
       "      <td>0.0</td>\n",
       "      <td>300.0</td>\n",
       "      <td>1000.0</td>\n",
       "      <td>2850.0</td>\n",
       "      <td>20000.0</td>\n",
       "    </tr>\n",
       "  </tbody>\n",
       "</table>\n",
       "</div>"
      ],
      "text/plain": [
       "            count         mean          std  min     25%     50%      75%  \\\n",
       "Gearbox                                                                     \n",
       "auto      65532.0  6816.039691  5383.439555  0.0  2250.0  5500.0  10500.0   \n",
       "manual   265958.0  3957.809417  4106.947867  0.0  1000.0  2450.0   5500.0   \n",
       "unknown   18730.0  2142.414949  2940.058583  0.0   300.0  1000.0   2850.0   \n",
       "\n",
       "             max  \n",
       "Gearbox           \n",
       "auto     20000.0  \n",
       "manual   20000.0  \n",
       "unknown  20000.0  "
      ]
     },
     "execution_count": 12,
     "metadata": {},
     "output_type": "execute_result"
    }
   ],
   "source": [
    "# Диаграмма размаха:\n",
    "auto.boxplot(column='Price', by='Gearbox', figsize=(20, 15))\n",
    "plt.title('График размаха цен по коробкам передач', fontsize=25)\n",
    "plt.ylabel('Цена', fontsize=25)\n",
    "plt.xlabel('Коробка передач', fontsize=25)\n",
    "plt.show()\n",
    "auto.groupby('Gearbox')['Price'].describe()"
   ]
  },
  {
   "cell_type": "markdown",
   "metadata": {},
   "source": [
    "А вот и очередная проблема: стоимость некоторых машин равна нулю. Понятно, что это явная ошибка. Посмотрим, сколько таких данных."
   ]
  },
  {
   "cell_type": "code",
   "execution_count": 13,
   "metadata": {},
   "outputs": [
    {
     "name": "stdout",
     "output_type": "stream",
     "text": [
      "Доля \"бесплатных\" машин: 0.02960710410599052\n"
     ]
    }
   ],
   "source": [
    "# Доля \"бесплатных\" машин:\n",
    "print('Доля \"бесплатных\" машин:', len(auto[auto['Price']==0])/len(auto))"
   ]
  },
  {
   "cell_type": "markdown",
   "metadata": {},
   "source": [
    "Незначительная часть, удаляем."
   ]
  },
  {
   "cell_type": "code",
   "execution_count": 14,
   "metadata": {},
   "outputs": [
    {
     "data": {
      "image/png": "[encoded data removed]",
      "text/plain": [
       "<Figure size 1440x1080 with 1 Axes>"
      ]
     },
     "metadata": {
      "needs_background": "light"
     },
     "output_type": "display_data"
    },
    {
     "data": {
      "text/html": [
       "<div>\n",
       "<style scoped>\n",
       "    .dataframe tbody tr th:only-of-type {\n",
       "        vertical-align: middle;\n",
       "    }\n",
       "\n",
       "    .dataframe tbody tr th {\n",
       "        vertical-align: top;\n",
       "    }\n",
       "\n",
       "    .dataframe thead th {\n",
       "        text-align: right;\n",
       "    }\n",
       "</style>\n",
       "<table border=\"1\" class=\"dataframe\">\n",
       "  <thead>\n",
       "    <tr style=\"text-align: right;\">\n",
       "      <th></th>\n",
       "      <th>count</th>\n",
       "      <th>mean</th>\n",
       "      <th>std</th>\n",
       "      <th>min</th>\n",
       "      <th>25%</th>\n",
       "      <th>50%</th>\n",
       "      <th>75%</th>\n",
       "      <th>max</th>\n",
       "    </tr>\n",
       "    <tr>\n",
       "      <th>Gearbox</th>\n",
       "      <th></th>\n",
       "      <th></th>\n",
       "      <th></th>\n",
       "      <th></th>\n",
       "      <th></th>\n",
       "      <th></th>\n",
       "      <th></th>\n",
       "      <th></th>\n",
       "    </tr>\n",
       "  </thead>\n",
       "  <tbody>\n",
       "    <tr>\n",
       "      <th>auto</th>\n",
       "      <td>64140.0</td>\n",
       "      <td>6963.964967</td>\n",
       "      <td>5346.048895</td>\n",
       "      <td>1.0</td>\n",
       "      <td>2450.0</td>\n",
       "      <td>5600.0</td>\n",
       "      <td>10500.0</td>\n",
       "      <td>20000.0</td>\n",
       "    </tr>\n",
       "    <tr>\n",
       "      <th>manual</th>\n",
       "      <td>259203.0</td>\n",
       "      <td>4060.952524</td>\n",
       "      <td>4109.467996</td>\n",
       "      <td>1.0</td>\n",
       "      <td>1100.0</td>\n",
       "      <td>2500.0</td>\n",
       "      <td>5699.0</td>\n",
       "      <td>20000.0</td>\n",
       "    </tr>\n",
       "    <tr>\n",
       "      <th>unknown</th>\n",
       "      <td>16508.0</td>\n",
       "      <td>2430.787012</td>\n",
       "      <td>3017.695893</td>\n",
       "      <td>1.0</td>\n",
       "      <td>500.0</td>\n",
       "      <td>1350.0</td>\n",
       "      <td>3100.0</td>\n",
       "      <td>20000.0</td>\n",
       "    </tr>\n",
       "  </tbody>\n",
       "</table>\n",
       "</div>"
      ],
      "text/plain": [
       "            count         mean          std  min     25%     50%      75%  \\\n",
       "Gearbox                                                                     \n",
       "auto      64140.0  6963.964967  5346.048895  1.0  2450.0  5600.0  10500.0   \n",
       "manual   259203.0  4060.952524  4109.467996  1.0  1100.0  2500.0   5699.0   \n",
       "unknown   16508.0  2430.787012  3017.695893  1.0   500.0  1350.0   3100.0   \n",
       "\n",
       "             max  \n",
       "Gearbox           \n",
       "auto     20000.0  \n",
       "manual   20000.0  \n",
       "unknown  20000.0  "
      ]
     },
     "execution_count": 14,
     "metadata": {},
     "output_type": "execute_result"
    }
   ],
   "source": [
    "# Удаляем аномалии:\n",
    "auto = auto[auto['Price']!=0]\n",
    "\n",
    "# Перепроверяем диаграмму:\n",
    "auto.boxplot(column='Price', by='Gearbox', figsize=(20, 15))\n",
    "plt.title('График размаха цен по коробкам передач', fontsize=25)\n",
    "plt.ylabel('Цена', fontsize=25)\n",
    "plt.xlabel('Коробка передач', fontsize=25)\n",
    "plt.show()\n",
    "auto.groupby('Gearbox')['Price'].describe()"
   ]
  },
  {
   "cell_type": "markdown",
   "metadata": {},
   "source": [
    "Оказывается, есть ещё и \"около бесплатные\" предложения. В таком случае введём минимальный порог и вырежем все аномалии. Пусть таким порогом станет цена автомобиля в 1000 у.е."
   ]
  },
  {
   "cell_type": "code",
   "execution_count": 15,
   "metadata": {},
   "outputs": [
    {
     "data": {
      "image/png": "[encoded data removed]",
      "text/plain": [
       "<Figure size 1440x1080 with 1 Axes>"
      ]
     },
     "metadata": {
      "needs_background": "light"
     },
     "output_type": "display_data"
    },
    {
     "data": {
      "text/html": [
       "<div>\n",
       "<style scoped>\n",
       "    .dataframe tbody tr th:only-of-type {\n",
       "        vertical-align: middle;\n",
       "    }\n",
       "\n",
       "    .dataframe tbody tr th {\n",
       "        vertical-align: top;\n",
       "    }\n",
       "\n",
       "    .dataframe thead th {\n",
       "        text-align: right;\n",
       "    }\n",
       "</style>\n",
       "<table border=\"1\" class=\"dataframe\">\n",
       "  <thead>\n",
       "    <tr style=\"text-align: right;\">\n",
       "      <th></th>\n",
       "      <th>count</th>\n",
       "      <th>mean</th>\n",
       "      <th>std</th>\n",
       "      <th>min</th>\n",
       "      <th>25%</th>\n",
       "      <th>50%</th>\n",
       "      <th>75%</th>\n",
       "      <th>max</th>\n",
       "    </tr>\n",
       "    <tr>\n",
       "      <th>Gearbox</th>\n",
       "      <th></th>\n",
       "      <th></th>\n",
       "      <th></th>\n",
       "      <th></th>\n",
       "      <th></th>\n",
       "      <th></th>\n",
       "      <th></th>\n",
       "      <th></th>\n",
       "    </tr>\n",
       "  </thead>\n",
       "  <tbody>\n",
       "    <tr>\n",
       "      <th>auto</th>\n",
       "      <td>62213.0</td>\n",
       "      <td>7169.414399</td>\n",
       "      <td>5297.147703</td>\n",
       "      <td>501.0</td>\n",
       "      <td>2600.0</td>\n",
       "      <td>5900.0</td>\n",
       "      <td>10900.0</td>\n",
       "      <td>20000.0</td>\n",
       "    </tr>\n",
       "    <tr>\n",
       "      <th>manual</th>\n",
       "      <td>234755.0</td>\n",
       "      <td>4449.675185</td>\n",
       "      <td>4128.238837</td>\n",
       "      <td>501.0</td>\n",
       "      <td>1400.0</td>\n",
       "      <td>2950.0</td>\n",
       "      <td>6100.0</td>\n",
       "      <td>20000.0</td>\n",
       "    </tr>\n",
       "    <tr>\n",
       "      <th>unknown</th>\n",
       "      <td>12281.0</td>\n",
       "      <td>3182.054230</td>\n",
       "      <td>3166.630950</td>\n",
       "      <td>501.0</td>\n",
       "      <td>1100.0</td>\n",
       "      <td>2150.0</td>\n",
       "      <td>3800.0</td>\n",
       "      <td>20000.0</td>\n",
       "    </tr>\n",
       "  </tbody>\n",
       "</table>\n",
       "</div>"
      ],
      "text/plain": [
       "            count         mean          std    min     25%     50%      75%  \\\n",
       "Gearbox                                                                       \n",
       "auto      62213.0  7169.414399  5297.147703  501.0  2600.0  5900.0  10900.0   \n",
       "manual   234755.0  4449.675185  4128.238837  501.0  1400.0  2950.0   6100.0   \n",
       "unknown   12281.0  3182.054230  3166.630950  501.0  1100.0  2150.0   3800.0   \n",
       "\n",
       "             max  \n",
       "Gearbox           \n",
       "auto     20000.0  \n",
       "manual   20000.0  \n",
       "unknown  20000.0  "
      ]
     },
     "execution_count": 15,
     "metadata": {},
     "output_type": "execute_result"
    }
   ],
   "source": [
    "# Удаляем аномалии:\n",
    "auto = auto[auto['Price'] > 500]\n",
    "\n",
    "# Перепроверяем диаграмму:\n",
    "auto.boxplot(column='Price', by='Gearbox', figsize=(20, 15))\n",
    "plt.title('График размаха цен по коробкам передач', fontsize=25)\n",
    "plt.ylabel('Цена', fontsize=25)\n",
    "plt.xlabel('Коробка передач', fontsize=25)\n",
    "plt.show()\n",
    "auto.groupby('Gearbox')['Price'].describe()"
   ]
  },
  {
   "cell_type": "markdown",
   "metadata": {},
   "source": [
    "Теперь больше похоже на правду. Узнаем, сколько строк мы потеряли."
   ]
  },
  {
   "cell_type": "code",
   "execution_count": 16,
   "metadata": {
    "scrolled": true
   },
   "outputs": [
    {
     "name": "stdout",
     "output_type": "stream",
     "text": [
      "Количество строк после очистки: 309249\n"
     ]
    }
   ],
   "source": [
    "print(\"Количество строк после очистки:\", len(auto))"
   ]
  },
  {
   "cell_type": "code",
   "execution_count": 17,
   "metadata": {},
   "outputs": [
    {
     "data": {
      "image/png": "[encoded data removed]",
      "text/plain": [
       "<Figure size 1440x1080 with 1 Axes>"
      ]
     },
     "metadata": {
      "needs_background": "light"
     },
     "output_type": "display_data"
    },
    {
     "data": {
      "text/html": [
       "<div>\n",
       "<style scoped>\n",
       "    .dataframe tbody tr th:only-of-type {\n",
       "        vertical-align: middle;\n",
       "    }\n",
       "\n",
       "    .dataframe tbody tr th {\n",
       "        vertical-align: top;\n",
       "    }\n",
       "\n",
       "    .dataframe thead th {\n",
       "        text-align: right;\n",
       "    }\n",
       "</style>\n",
       "<table border=\"1\" class=\"dataframe\">\n",
       "  <thead>\n",
       "    <tr style=\"text-align: right;\">\n",
       "      <th></th>\n",
       "      <th>count</th>\n",
       "      <th>mean</th>\n",
       "      <th>std</th>\n",
       "      <th>min</th>\n",
       "      <th>25%</th>\n",
       "      <th>50%</th>\n",
       "      <th>75%</th>\n",
       "      <th>max</th>\n",
       "    </tr>\n",
       "    <tr>\n",
       "      <th>Gearbox</th>\n",
       "      <th></th>\n",
       "      <th></th>\n",
       "      <th></th>\n",
       "      <th></th>\n",
       "      <th></th>\n",
       "      <th></th>\n",
       "      <th></th>\n",
       "      <th></th>\n",
       "    </tr>\n",
       "  </thead>\n",
       "  <tbody>\n",
       "    <tr>\n",
       "      <th>auto</th>\n",
       "      <td>62213.0</td>\n",
       "      <td>161.657580</td>\n",
       "      <td>225.216545</td>\n",
       "      <td>0.0</td>\n",
       "      <td>116.0</td>\n",
       "      <td>163.0</td>\n",
       "      <td>200.0</td>\n",
       "      <td>20000.0</td>\n",
       "    </tr>\n",
       "    <tr>\n",
       "      <th>manual</th>\n",
       "      <td>234755.0</td>\n",
       "      <td>107.688198</td>\n",
       "      <td>174.884187</td>\n",
       "      <td>0.0</td>\n",
       "      <td>75.0</td>\n",
       "      <td>103.0</td>\n",
       "      <td>136.0</td>\n",
       "      <td>19312.0</td>\n",
       "    </tr>\n",
       "    <tr>\n",
       "      <th>unknown</th>\n",
       "      <td>12281.0</td>\n",
       "      <td>44.633255</td>\n",
       "      <td>162.880677</td>\n",
       "      <td>0.0</td>\n",
       "      <td>0.0</td>\n",
       "      <td>0.0</td>\n",
       "      <td>75.0</td>\n",
       "      <td>12510.0</td>\n",
       "    </tr>\n",
       "  </tbody>\n",
       "</table>\n",
       "</div>"
      ],
      "text/plain": [
       "            count        mean         std  min    25%    50%    75%      max\n",
       "Gearbox                                                                     \n",
       "auto      62213.0  161.657580  225.216545  0.0  116.0  163.0  200.0  20000.0\n",
       "manual   234755.0  107.688198  174.884187  0.0   75.0  103.0  136.0  19312.0\n",
       "unknown   12281.0   44.633255  162.880677  0.0    0.0    0.0   75.0  12510.0"
      ]
     },
     "execution_count": 17,
     "metadata": {},
     "output_type": "execute_result"
    }
   ],
   "source": [
    "# Диаграмма размаха:\n",
    "auto.boxplot(column='Power', by='Gearbox', figsize=(20, 15))\n",
    "plt.title('График размаха мощности по коробкам передач', fontsize=25)\n",
    "plt.ylabel('Мощность', fontsize=25)\n",
    "plt.xlabel('Коробка передач', fontsize=25)\n",
    "plt.show()\n",
    "auto.groupby('Gearbox')['Power'].describe()"
   ]
  },
  {
   "cell_type": "markdown",
   "metadata": {},
   "source": [
    "Кто-то явно не понимал, что указывает. Мощность в 0 лошадиных сил ещё можно как-то попытаться объяснить (например, машина сломана, продаётся по заниженной цене), но вот 20000 это уже за гранью. Удалим явные выбросы, используя порог в 1000 л.с. (у некоторых спорткаров числится именно это значение)."
   ]
  },
  {
   "cell_type": "code",
   "execution_count": 18,
   "metadata": {},
   "outputs": [
    {
     "data": {
      "text/plain": [
       "33409"
      ]
     },
     "execution_count": 18,
     "metadata": {},
     "output_type": "execute_result"
    }
   ],
   "source": [
    "len(auto[(auto['Power']>=0) & (auto['Power']<=50)])"
   ]
  },
  {
   "cell_type": "code",
   "execution_count": 19,
   "metadata": {
    "scrolled": true
   },
   "outputs": [
    {
     "data": {
      "image/png": "[encoded data removed]",
      "text/plain": [
       "<Figure size 1440x1080 with 1 Axes>"
      ]
     },
     "metadata": {
      "needs_background": "light"
     },
     "output_type": "display_data"
    },
    {
     "data": {
      "text/html": [
       "<div>\n",
       "<style scoped>\n",
       "    .dataframe tbody tr th:only-of-type {\n",
       "        vertical-align: middle;\n",
       "    }\n",
       "\n",
       "    .dataframe tbody tr th {\n",
       "        vertical-align: top;\n",
       "    }\n",
       "\n",
       "    .dataframe thead th {\n",
       "        text-align: right;\n",
       "    }\n",
       "</style>\n",
       "<table border=\"1\" class=\"dataframe\">\n",
       "  <thead>\n",
       "    <tr style=\"text-align: right;\">\n",
       "      <th></th>\n",
       "      <th>count</th>\n",
       "      <th>mean</th>\n",
       "      <th>std</th>\n",
       "      <th>min</th>\n",
       "      <th>25%</th>\n",
       "      <th>50%</th>\n",
       "      <th>75%</th>\n",
       "      <th>max</th>\n",
       "    </tr>\n",
       "    <tr>\n",
       "      <th>Gearbox</th>\n",
       "      <th></th>\n",
       "      <th></th>\n",
       "      <th></th>\n",
       "      <th></th>\n",
       "      <th></th>\n",
       "      <th></th>\n",
       "      <th></th>\n",
       "      <th></th>\n",
       "    </tr>\n",
       "  </thead>\n",
       "  <tbody>\n",
       "    <tr>\n",
       "      <th>auto</th>\n",
       "      <td>62158.0</td>\n",
       "      <td>157.559558</td>\n",
       "      <td>76.156722</td>\n",
       "      <td>0.0</td>\n",
       "      <td>116.0</td>\n",
       "      <td>163.0</td>\n",
       "      <td>200.0</td>\n",
       "      <td>751.0</td>\n",
       "    </tr>\n",
       "    <tr>\n",
       "      <th>manual</th>\n",
       "      <td>234574.0</td>\n",
       "      <td>104.583407</td>\n",
       "      <td>50.421759</td>\n",
       "      <td>0.0</td>\n",
       "      <td>75.0</td>\n",
       "      <td>103.0</td>\n",
       "      <td>136.0</td>\n",
       "      <td>999.0</td>\n",
       "    </tr>\n",
       "    <tr>\n",
       "      <th>unknown</th>\n",
       "      <td>12273.0</td>\n",
       "      <td>41.889758</td>\n",
       "      <td>61.573175</td>\n",
       "      <td>0.0</td>\n",
       "      <td>0.0</td>\n",
       "      <td>0.0</td>\n",
       "      <td>75.0</td>\n",
       "      <td>805.0</td>\n",
       "    </tr>\n",
       "  </tbody>\n",
       "</table>\n",
       "</div>"
      ],
      "text/plain": [
       "            count        mean        std  min    25%    50%    75%    max\n",
       "Gearbox                                                                  \n",
       "auto      62158.0  157.559558  76.156722  0.0  116.0  163.0  200.0  751.0\n",
       "manual   234574.0  104.583407  50.421759  0.0   75.0  103.0  136.0  999.0\n",
       "unknown   12273.0   41.889758  61.573175  0.0    0.0    0.0   75.0  805.0"
      ]
     },
     "execution_count": 19,
     "metadata": {},
     "output_type": "execute_result"
    }
   ],
   "source": [
    "# Удаление явных выбросов:\n",
    "auto = auto[auto['Power'] < 1000]\n",
    "\n",
    "# Проверка графика:\n",
    "auto.boxplot(column='Power', by='Gearbox', figsize=(20, 15))\n",
    "plt.title('График размаха мощности по коробкам передач', fontsize=25)\n",
    "plt.ylabel('Мощность', fontsize=25)\n",
    "plt.xlabel('Коробка передач', fontsize=25)\n",
    "plt.show()\n",
    "auto.groupby('Gearbox')['Power'].describe()"
   ]
  },
  {
   "cell_type": "code",
   "execution_count": 20,
   "metadata": {},
   "outputs": [
    {
     "data": {
      "image/png": "[encoded data removed]",
      "text/plain": [
       "<Figure size 1440x1080 with 1 Axes>"
      ]
     },
     "metadata": {
      "needs_background": "light"
     },
     "output_type": "display_data"
    },
    {
     "data": {
      "text/html": [
       "<div>\n",
       "<style scoped>\n",
       "    .dataframe tbody tr th:only-of-type {\n",
       "        vertical-align: middle;\n",
       "    }\n",
       "\n",
       "    .dataframe tbody tr th {\n",
       "        vertical-align: top;\n",
       "    }\n",
       "\n",
       "    .dataframe thead th {\n",
       "        text-align: right;\n",
       "    }\n",
       "</style>\n",
       "<table border=\"1\" class=\"dataframe\">\n",
       "  <thead>\n",
       "    <tr style=\"text-align: right;\">\n",
       "      <th></th>\n",
       "      <th>count</th>\n",
       "      <th>mean</th>\n",
       "      <th>std</th>\n",
       "      <th>min</th>\n",
       "      <th>25%</th>\n",
       "      <th>50%</th>\n",
       "      <th>75%</th>\n",
       "      <th>max</th>\n",
       "    </tr>\n",
       "    <tr>\n",
       "      <th>Gearbox</th>\n",
       "      <th></th>\n",
       "      <th></th>\n",
       "      <th></th>\n",
       "      <th></th>\n",
       "      <th></th>\n",
       "      <th></th>\n",
       "      <th></th>\n",
       "      <th></th>\n",
       "    </tr>\n",
       "  </thead>\n",
       "  <tbody>\n",
       "    <tr>\n",
       "      <th>auto</th>\n",
       "      <td>62158.0</td>\n",
       "      <td>130048.264101</td>\n",
       "      <td>35602.182628</td>\n",
       "      <td>5000.0</td>\n",
       "      <td>125000.0</td>\n",
       "      <td>150000.0</td>\n",
       "      <td>150000.0</td>\n",
       "      <td>150000.0</td>\n",
       "    </tr>\n",
       "    <tr>\n",
       "      <th>manual</th>\n",
       "      <td>234574.0</td>\n",
       "      <td>127799.095381</td>\n",
       "      <td>36972.122069</td>\n",
       "      <td>5000.0</td>\n",
       "      <td>125000.0</td>\n",
       "      <td>150000.0</td>\n",
       "      <td>150000.0</td>\n",
       "      <td>150000.0</td>\n",
       "    </tr>\n",
       "    <tr>\n",
       "      <th>unknown</th>\n",
       "      <td>12273.0</td>\n",
       "      <td>128457.182433</td>\n",
       "      <td>40309.228602</td>\n",
       "      <td>5000.0</td>\n",
       "      <td>125000.0</td>\n",
       "      <td>150000.0</td>\n",
       "      <td>150000.0</td>\n",
       "      <td>150000.0</td>\n",
       "    </tr>\n",
       "  </tbody>\n",
       "</table>\n",
       "</div>"
      ],
      "text/plain": [
       "            count           mean           std     min       25%       50%  \\\n",
       "Gearbox                                                                      \n",
       "auto      62158.0  130048.264101  35602.182628  5000.0  125000.0  150000.0   \n",
       "manual   234574.0  127799.095381  36972.122069  5000.0  125000.0  150000.0   \n",
       "unknown   12273.0  128457.182433  40309.228602  5000.0  125000.0  150000.0   \n",
       "\n",
       "              75%       max  \n",
       "Gearbox                      \n",
       "auto     150000.0  150000.0  \n",
       "manual   150000.0  150000.0  \n",
       "unknown  150000.0  150000.0  "
      ]
     },
     "execution_count": 20,
     "metadata": {},
     "output_type": "execute_result"
    }
   ],
   "source": [
    "# Диаграмма размаха:\n",
    "auto.boxplot(column='Kilometer', by='Gearbox', figsize=(20, 15))\n",
    "plt.title('График размаха километража по коробкам передач', fontsize=25)\n",
    "plt.ylabel('Километраж', fontsize=25)\n",
    "plt.xlabel('Коробка передач', fontsize=25)\n",
    "plt.show()\n",
    "auto.groupby('Gearbox')['Kilometer'].describe()"
   ]
  },
  {
   "cell_type": "markdown",
   "metadata": {},
   "source": [
    "Ничего удивительного нет."
   ]
  },
  {
   "cell_type": "markdown",
   "metadata": {},
   "source": [
    "### Подготовка к обучению"
   ]
  },
  {
   "cell_type": "markdown",
   "metadata": {},
   "source": [
    "Некоторые столбцы для обучения модели бесполезны и будут лишь отвлекать на себя внимание. Напишем список таких столбцов и удалим их из таблицы."
   ]
  },
  {
   "cell_type": "code",
   "execution_count": 21,
   "metadata": {},
   "outputs": [
    {
     "data": {
      "text/html": [
       "<div>\n",
       "<style scoped>\n",
       "    .dataframe tbody tr th:only-of-type {\n",
       "        vertical-align: middle;\n",
       "    }\n",
       "\n",
       "    .dataframe tbody tr th {\n",
       "        vertical-align: top;\n",
       "    }\n",
       "\n",
       "    .dataframe thead th {\n",
       "        text-align: right;\n",
       "    }\n",
       "</style>\n",
       "<table border=\"1\" class=\"dataframe\">\n",
       "  <thead>\n",
       "    <tr style=\"text-align: right;\">\n",
       "      <th></th>\n",
       "      <th>Price</th>\n",
       "      <th>VehicleType</th>\n",
       "      <th>RegistrationYear</th>\n",
       "      <th>Gearbox</th>\n",
       "      <th>Power</th>\n",
       "      <th>Model</th>\n",
       "      <th>Kilometer</th>\n",
       "      <th>FuelType</th>\n",
       "      <th>Brand</th>\n",
       "      <th>Repaired</th>\n",
       "    </tr>\n",
       "  </thead>\n",
       "  <tbody>\n",
       "    <tr>\n",
       "      <th>1</th>\n",
       "      <td>18300</td>\n",
       "      <td>coupe</td>\n",
       "      <td>2011</td>\n",
       "      <td>manual</td>\n",
       "      <td>190</td>\n",
       "      <td>unknown</td>\n",
       "      <td>125000</td>\n",
       "      <td>gasoline</td>\n",
       "      <td>audi</td>\n",
       "      <td>2</td>\n",
       "    </tr>\n",
       "    <tr>\n",
       "      <th>2</th>\n",
       "      <td>9800</td>\n",
       "      <td>suv</td>\n",
       "      <td>2004</td>\n",
       "      <td>auto</td>\n",
       "      <td>163</td>\n",
       "      <td>grand</td>\n",
       "      <td>125000</td>\n",
       "      <td>gasoline</td>\n",
       "      <td>jeep</td>\n",
       "      <td>1</td>\n",
       "    </tr>\n",
       "    <tr>\n",
       "      <th>3</th>\n",
       "      <td>1500</td>\n",
       "      <td>small</td>\n",
       "      <td>2001</td>\n",
       "      <td>manual</td>\n",
       "      <td>75</td>\n",
       "      <td>golf</td>\n",
       "      <td>150000</td>\n",
       "      <td>petrol</td>\n",
       "      <td>volkswagen</td>\n",
       "      <td>0</td>\n",
       "    </tr>\n",
       "    <tr>\n",
       "      <th>4</th>\n",
       "      <td>3600</td>\n",
       "      <td>small</td>\n",
       "      <td>2008</td>\n",
       "      <td>manual</td>\n",
       "      <td>69</td>\n",
       "      <td>fabia</td>\n",
       "      <td>90000</td>\n",
       "      <td>gasoline</td>\n",
       "      <td>skoda</td>\n",
       "      <td>0</td>\n",
       "    </tr>\n",
       "    <tr>\n",
       "      <th>5</th>\n",
       "      <td>650</td>\n",
       "      <td>sedan</td>\n",
       "      <td>1995</td>\n",
       "      <td>manual</td>\n",
       "      <td>102</td>\n",
       "      <td>3er</td>\n",
       "      <td>150000</td>\n",
       "      <td>petrol</td>\n",
       "      <td>bmw</td>\n",
       "      <td>2</td>\n",
       "    </tr>\n",
       "  </tbody>\n",
       "</table>\n",
       "</div>"
      ],
      "text/plain": [
       "   Price VehicleType  RegistrationYear Gearbox  Power    Model  Kilometer  \\\n",
       "1  18300       coupe              2011  manual    190  unknown     125000   \n",
       "2   9800         suv              2004    auto    163    grand     125000   \n",
       "3   1500       small              2001  manual     75     golf     150000   \n",
       "4   3600       small              2008  manual     69    fabia      90000   \n",
       "5    650       sedan              1995  manual    102      3er     150000   \n",
       "\n",
       "   FuelType       Brand  Repaired  \n",
       "1  gasoline        audi         2  \n",
       "2  gasoline        jeep         1  \n",
       "3    petrol  volkswagen         0  \n",
       "4  gasoline       skoda         0  \n",
       "5    petrol         bmw         2  "
      ]
     },
     "metadata": {},
     "output_type": "display_data"
    }
   ],
   "source": [
    "# Список столбцов для удаления:\n",
    "col_to_drop = ['DateCrawled', 'RegistrationMonth', 'DateCreated', 'NumberOfPictures', 'PostalCode', 'LastSeen']\n",
    "\n",
    "# Очищаем таблицу:\n",
    "auto = auto.drop(col_to_drop, axis=1)\n",
    "display(auto.head())"
   ]
  },
  {
   "cell_type": "markdown",
   "metadata": {},
   "source": [
    "Для красоты обновим индексы строк."
   ]
  },
  {
   "cell_type": "code",
   "execution_count": 22,
   "metadata": {},
   "outputs": [
    {
     "data": {
      "text/html": [
       "<div>\n",
       "<style scoped>\n",
       "    .dataframe tbody tr th:only-of-type {\n",
       "        vertical-align: middle;\n",
       "    }\n",
       "\n",
       "    .dataframe tbody tr th {\n",
       "        vertical-align: top;\n",
       "    }\n",
       "\n",
       "    .dataframe thead th {\n",
       "        text-align: right;\n",
       "    }\n",
       "</style>\n",
       "<table border=\"1\" class=\"dataframe\">\n",
       "  <thead>\n",
       "    <tr style=\"text-align: right;\">\n",
       "      <th></th>\n",
       "      <th>Price</th>\n",
       "      <th>VehicleType</th>\n",
       "      <th>RegistrationYear</th>\n",
       "      <th>Gearbox</th>\n",
       "      <th>Power</th>\n",
       "      <th>Model</th>\n",
       "      <th>Kilometer</th>\n",
       "      <th>FuelType</th>\n",
       "      <th>Brand</th>\n",
       "      <th>Repaired</th>\n",
       "    </tr>\n",
       "  </thead>\n",
       "  <tbody>\n",
       "    <tr>\n",
       "      <th>0</th>\n",
       "      <td>18300</td>\n",
       "      <td>coupe</td>\n",
       "      <td>2011</td>\n",
       "      <td>manual</td>\n",
       "      <td>190</td>\n",
       "      <td>unknown</td>\n",
       "      <td>125000</td>\n",
       "      <td>gasoline</td>\n",
       "      <td>audi</td>\n",
       "      <td>2</td>\n",
       "    </tr>\n",
       "    <tr>\n",
       "      <th>1</th>\n",
       "      <td>9800</td>\n",
       "      <td>suv</td>\n",
       "      <td>2004</td>\n",
       "      <td>auto</td>\n",
       "      <td>163</td>\n",
       "      <td>grand</td>\n",
       "      <td>125000</td>\n",
       "      <td>gasoline</td>\n",
       "      <td>jeep</td>\n",
       "      <td>1</td>\n",
       "    </tr>\n",
       "    <tr>\n",
       "      <th>2</th>\n",
       "      <td>1500</td>\n",
       "      <td>small</td>\n",
       "      <td>2001</td>\n",
       "      <td>manual</td>\n",
       "      <td>75</td>\n",
       "      <td>golf</td>\n",
       "      <td>150000</td>\n",
       "      <td>petrol</td>\n",
       "      <td>volkswagen</td>\n",
       "      <td>0</td>\n",
       "    </tr>\n",
       "    <tr>\n",
       "      <th>3</th>\n",
       "      <td>3600</td>\n",
       "      <td>small</td>\n",
       "      <td>2008</td>\n",
       "      <td>manual</td>\n",
       "      <td>69</td>\n",
       "      <td>fabia</td>\n",
       "      <td>90000</td>\n",
       "      <td>gasoline</td>\n",
       "      <td>skoda</td>\n",
       "      <td>0</td>\n",
       "    </tr>\n",
       "    <tr>\n",
       "      <th>4</th>\n",
       "      <td>650</td>\n",
       "      <td>sedan</td>\n",
       "      <td>1995</td>\n",
       "      <td>manual</td>\n",
       "      <td>102</td>\n",
       "      <td>3er</td>\n",
       "      <td>150000</td>\n",
       "      <td>petrol</td>\n",
       "      <td>bmw</td>\n",
       "      <td>2</td>\n",
       "    </tr>\n",
       "  </tbody>\n",
       "</table>\n",
       "</div>"
      ],
      "text/plain": [
       "   Price VehicleType  RegistrationYear Gearbox  Power    Model  Kilometer  \\\n",
       "0  18300       coupe              2011  manual    190  unknown     125000   \n",
       "1   9800         suv              2004    auto    163    grand     125000   \n",
       "2   1500       small              2001  manual     75     golf     150000   \n",
       "3   3600       small              2008  manual     69    fabia      90000   \n",
       "4    650       sedan              1995  manual    102      3er     150000   \n",
       "\n",
       "   FuelType       Brand  Repaired  \n",
       "0  gasoline        audi         2  \n",
       "1  gasoline        jeep         1  \n",
       "2    petrol  volkswagen         0  \n",
       "3  gasoline       skoda         0  \n",
       "4    petrol         bmw         2  "
      ]
     },
     "metadata": {},
     "output_type": "display_data"
    }
   ],
   "source": [
    "# Обновление индексов строк:\n",
    "auto = auto.reset_index(drop=True)\n",
    "display(auto.head())"
   ]
  },
  {
   "cell_type": "markdown",
   "metadata": {},
   "source": [
    "### Вывод:\n",
    "Был произведён первичный осмотр данных из предоставленной таблицы. Сразу выявлены следующие проблемы: достаточное количество пропусков и несоответствие некоторых типов данных. Совершены следующие преобразования:\n",
    "\n",
    "  1) Удалены строки с пропусками;\\\n",
    "  2) Проверена корректность данных;\\\n",
    "  3) Удалены дубликаты;\\\n",
    "  4) Обработаны выбросы.\n",
    "  \n",
    "Кроме этого, произведена подготовка данных для обучения моделей - удалены неинформативные столбцы."
   ]
  },
  {
   "cell_type": "markdown",
   "metadata": {},
   "source": [
    "## Обучение моделей"
   ]
  },
  {
   "cell_type": "markdown",
   "metadata": {},
   "source": [
    "Переходим к обучению моделей. Для начала подготовим выборки и зададим необходимые константы."
   ]
  },
  {
   "cell_type": "markdown",
   "metadata": {},
   "source": [
    "### Подготовка перед обучением"
   ]
  },
  {
   "cell_type": "code",
   "execution_count": 23,
   "metadata": {},
   "outputs": [],
   "source": [
    "# Функцию для подсчета RMSE зададим так для дальнейшего удобства:\n",
    "def rmse(target, predicted):\n",
    "    return mse(target, predicted) ** 0.5"
   ]
  },
  {
   "cell_type": "code",
   "execution_count": 24,
   "metadata": {},
   "outputs": [],
   "source": [
    "# Формируем списки столбцов для обработки:\n",
    "ohe_col = ['VehicleType', 'Gearbox', 'Brand', 'Model', 'FuelType']\n",
    "num_col = ['RegistrationYear', 'Power', 'Kilometer', 'Repaired']"
   ]
  },
  {
   "cell_type": "code",
   "execution_count": 25,
   "metadata": {},
   "outputs": [
    {
     "data": {
      "text/html": [
       "<div>\n",
       "<style scoped>\n",
       "    .dataframe tbody tr th:only-of-type {\n",
       "        vertical-align: middle;\n",
       "    }\n",
       "\n",
       "    .dataframe tbody tr th {\n",
       "        vertical-align: top;\n",
       "    }\n",
       "\n",
       "    .dataframe thead th {\n",
       "        text-align: right;\n",
       "    }\n",
       "</style>\n",
       "<table border=\"1\" class=\"dataframe\">\n",
       "  <thead>\n",
       "    <tr style=\"text-align: right;\">\n",
       "      <th></th>\n",
       "      <th>RegistrationYear</th>\n",
       "      <th>Power</th>\n",
       "      <th>Kilometer</th>\n",
       "      <th>Repaired</th>\n",
       "      <th>VehicleType_convertible</th>\n",
       "      <th>VehicleType_coupe</th>\n",
       "      <th>VehicleType_other</th>\n",
       "      <th>VehicleType_sedan</th>\n",
       "      <th>VehicleType_small</th>\n",
       "      <th>VehicleType_suv</th>\n",
       "      <th>...</th>\n",
       "      <th>Model_ypsilon</th>\n",
       "      <th>Model_z_reihe</th>\n",
       "      <th>Model_zafira</th>\n",
       "      <th>FuelType_electric</th>\n",
       "      <th>FuelType_gasoline</th>\n",
       "      <th>FuelType_hybrid</th>\n",
       "      <th>FuelType_lpg</th>\n",
       "      <th>FuelType_other</th>\n",
       "      <th>FuelType_petrol</th>\n",
       "      <th>FuelType_unknown</th>\n",
       "    </tr>\n",
       "  </thead>\n",
       "  <tbody>\n",
       "    <tr>\n",
       "      <th>0</th>\n",
       "      <td>2011</td>\n",
       "      <td>190</td>\n",
       "      <td>125000</td>\n",
       "      <td>2</td>\n",
       "      <td>0</td>\n",
       "      <td>1</td>\n",
       "      <td>0</td>\n",
       "      <td>0</td>\n",
       "      <td>0</td>\n",
       "      <td>0</td>\n",
       "      <td>...</td>\n",
       "      <td>0</td>\n",
       "      <td>0</td>\n",
       "      <td>0</td>\n",
       "      <td>0</td>\n",
       "      <td>1</td>\n",
       "      <td>0</td>\n",
       "      <td>0</td>\n",
       "      <td>0</td>\n",
       "      <td>0</td>\n",
       "      <td>0</td>\n",
       "    </tr>\n",
       "    <tr>\n",
       "      <th>1</th>\n",
       "      <td>2004</td>\n",
       "      <td>163</td>\n",
       "      <td>125000</td>\n",
       "      <td>1</td>\n",
       "      <td>0</td>\n",
       "      <td>0</td>\n",
       "      <td>0</td>\n",
       "      <td>0</td>\n",
       "      <td>0</td>\n",
       "      <td>1</td>\n",
       "      <td>...</td>\n",
       "      <td>0</td>\n",
       "      <td>0</td>\n",
       "      <td>0</td>\n",
       "      <td>0</td>\n",
       "      <td>1</td>\n",
       "      <td>0</td>\n",
       "      <td>0</td>\n",
       "      <td>0</td>\n",
       "      <td>0</td>\n",
       "      <td>0</td>\n",
       "    </tr>\n",
       "    <tr>\n",
       "      <th>2</th>\n",
       "      <td>2001</td>\n",
       "      <td>75</td>\n",
       "      <td>150000</td>\n",
       "      <td>0</td>\n",
       "      <td>0</td>\n",
       "      <td>0</td>\n",
       "      <td>0</td>\n",
       "      <td>0</td>\n",
       "      <td>1</td>\n",
       "      <td>0</td>\n",
       "      <td>...</td>\n",
       "      <td>0</td>\n",
       "      <td>0</td>\n",
       "      <td>0</td>\n",
       "      <td>0</td>\n",
       "      <td>0</td>\n",
       "      <td>0</td>\n",
       "      <td>0</td>\n",
       "      <td>0</td>\n",
       "      <td>1</td>\n",
       "      <td>0</td>\n",
       "    </tr>\n",
       "    <tr>\n",
       "      <th>3</th>\n",
       "      <td>2008</td>\n",
       "      <td>69</td>\n",
       "      <td>90000</td>\n",
       "      <td>0</td>\n",
       "      <td>0</td>\n",
       "      <td>0</td>\n",
       "      <td>0</td>\n",
       "      <td>0</td>\n",
       "      <td>1</td>\n",
       "      <td>0</td>\n",
       "      <td>...</td>\n",
       "      <td>0</td>\n",
       "      <td>0</td>\n",
       "      <td>0</td>\n",
       "      <td>0</td>\n",
       "      <td>1</td>\n",
       "      <td>0</td>\n",
       "      <td>0</td>\n",
       "      <td>0</td>\n",
       "      <td>0</td>\n",
       "      <td>0</td>\n",
       "    </tr>\n",
       "    <tr>\n",
       "      <th>4</th>\n",
       "      <td>1995</td>\n",
       "      <td>102</td>\n",
       "      <td>150000</td>\n",
       "      <td>2</td>\n",
       "      <td>0</td>\n",
       "      <td>0</td>\n",
       "      <td>0</td>\n",
       "      <td>1</td>\n",
       "      <td>0</td>\n",
       "      <td>0</td>\n",
       "      <td>...</td>\n",
       "      <td>0</td>\n",
       "      <td>0</td>\n",
       "      <td>0</td>\n",
       "      <td>0</td>\n",
       "      <td>0</td>\n",
       "      <td>0</td>\n",
       "      <td>0</td>\n",
       "      <td>0</td>\n",
       "      <td>1</td>\n",
       "      <td>0</td>\n",
       "    </tr>\n",
       "  </tbody>\n",
       "</table>\n",
       "<p>5 rows × 308 columns</p>\n",
       "</div>"
      ],
      "text/plain": [
       "   RegistrationYear  Power  Kilometer  Repaired  VehicleType_convertible  \\\n",
       "0              2011    190     125000         2                        0   \n",
       "1              2004    163     125000         1                        0   \n",
       "2              2001     75     150000         0                        0   \n",
       "3              2008     69      90000         0                        0   \n",
       "4              1995    102     150000         2                        0   \n",
       "\n",
       "   VehicleType_coupe  VehicleType_other  VehicleType_sedan  VehicleType_small  \\\n",
       "0                  1                  0                  0                  0   \n",
       "1                  0                  0                  0                  0   \n",
       "2                  0                  0                  0                  1   \n",
       "3                  0                  0                  0                  1   \n",
       "4                  0                  0                  1                  0   \n",
       "\n",
       "   VehicleType_suv  ...  Model_ypsilon  Model_z_reihe  Model_zafira  \\\n",
       "0                0  ...              0              0             0   \n",
       "1                1  ...              0              0             0   \n",
       "2                0  ...              0              0             0   \n",
       "3                0  ...              0              0             0   \n",
       "4                0  ...              0              0             0   \n",
       "\n",
       "   FuelType_electric  FuelType_gasoline  FuelType_hybrid  FuelType_lpg  \\\n",
       "0                  0                  1                0             0   \n",
       "1                  0                  1                0             0   \n",
       "2                  0                  0                0             0   \n",
       "3                  0                  1                0             0   \n",
       "4                  0                  0                0             0   \n",
       "\n",
       "   FuelType_other  FuelType_petrol  FuelType_unknown  \n",
       "0               0                0                 0  \n",
       "1               0                0                 0  \n",
       "2               0                1                 0  \n",
       "3               0                0                 0  \n",
       "4               0                1                 0  \n",
       "\n",
       "[5 rows x 308 columns]"
      ]
     },
     "metadata": {},
     "output_type": "display_data"
    }
   ],
   "source": [
    "# Убираем целевой признак:\n",
    "feat = auto.drop('Price', axis=1)\n",
    "target = auto['Price']\n",
    "\n",
    "# Закодируем качественные признаки:\n",
    "feat_ohe = pd.get_dummies(feat, columns=ohe_col, drop_first=True)\n",
    "display(feat_ohe.head())"
   ]
  },
  {
   "cell_type": "code",
   "execution_count": 26,
   "metadata": {},
   "outputs": [],
   "source": [
    "# Задаём константы:\n",
    "RANDOM_STATE = 1234\n",
    "\n",
    "# Функция для разбивки на выборки:\n",
    "def train_valid_test(features, target):\n",
    "    feat_train, valid_ant_test_feat, target_train, valid_ant_test_target = train_test_split(\n",
    "        features, target, test_size=0.4, random_state=RANDOM_STATE)\n",
    "\n",
    "    feat_valid, feat_test, target_valid, target_test = train_test_split(\n",
    "        valid_ant_test_feat, valid_ant_test_target, test_size=0.5, random_state=RANDOM_STATE)\n",
    "\n",
    "    del valid_ant_test_feat, valid_ant_test_target\n",
    "  \n",
    "    return feat_train, target_train, feat_valid, target_valid, feat_test, target_test\n",
    "\n",
    "feat_train, target_train, feat_valid, target_valid, feat_test, target_test = train_valid_test(feat_ohe, target)"
   ]
  },
  {
   "cell_type": "code",
   "execution_count": 27,
   "metadata": {},
   "outputs": [
    {
     "name": "stderr",
     "output_type": "stream",
     "text": [
      "/tmp/ipykernel_93/566992543.py:4: SettingWithCopyWarning: \n",
      "A value is trying to be set on a copy of a slice from a DataFrame.\n",
      "Try using .loc[row_indexer,col_indexer] = value instead\n",
      "\n",
      "See the caveats in the documentation: https://pandas.pydata.org/pandas-docs/stable/user_guide/indexing.html#returning-a-view-versus-a-copy\n",
      "  feat_train[num_col] = scaler.fit_transform(feat_train[num_col])\n",
      "/opt/conda/lib/python3.9/site-packages/pandas/core/indexing.py:1738: SettingWithCopyWarning: \n",
      "A value is trying to be set on a copy of a slice from a DataFrame.\n",
      "Try using .loc[row_indexer,col_indexer] = value instead\n",
      "\n",
      "See the caveats in the documentation: https://pandas.pydata.org/pandas-docs/stable/user_guide/indexing.html#returning-a-view-versus-a-copy\n",
      "  self._setitem_single_column(loc, value[:, i].tolist(), pi)\n"
     ]
    },
    {
     "data": {
      "text/html": [
       "<div>\n",
       "<style scoped>\n",
       "    .dataframe tbody tr th:only-of-type {\n",
       "        vertical-align: middle;\n",
       "    }\n",
       "\n",
       "    .dataframe tbody tr th {\n",
       "        vertical-align: top;\n",
       "    }\n",
       "\n",
       "    .dataframe thead th {\n",
       "        text-align: right;\n",
       "    }\n",
       "</style>\n",
       "<table border=\"1\" class=\"dataframe\">\n",
       "  <thead>\n",
       "    <tr style=\"text-align: right;\">\n",
       "      <th></th>\n",
       "      <th>RegistrationYear</th>\n",
       "      <th>Power</th>\n",
       "      <th>Kilometer</th>\n",
       "      <th>Repaired</th>\n",
       "      <th>VehicleType_convertible</th>\n",
       "      <th>VehicleType_coupe</th>\n",
       "      <th>VehicleType_other</th>\n",
       "      <th>VehicleType_sedan</th>\n",
       "      <th>VehicleType_small</th>\n",
       "      <th>VehicleType_suv</th>\n",
       "      <th>...</th>\n",
       "      <th>Model_ypsilon</th>\n",
       "      <th>Model_z_reihe</th>\n",
       "      <th>Model_zafira</th>\n",
       "      <th>FuelType_electric</th>\n",
       "      <th>FuelType_gasoline</th>\n",
       "      <th>FuelType_hybrid</th>\n",
       "      <th>FuelType_lpg</th>\n",
       "      <th>FuelType_other</th>\n",
       "      <th>FuelType_petrol</th>\n",
       "      <th>FuelType_unknown</th>\n",
       "    </tr>\n",
       "  </thead>\n",
       "  <tbody>\n",
       "    <tr>\n",
       "      <th>187602</th>\n",
       "      <td>0.961385</td>\n",
       "      <td>-0.220757</td>\n",
       "      <td>-1.037170</td>\n",
       "      <td>-0.528735</td>\n",
       "      <td>0</td>\n",
       "      <td>0</td>\n",
       "      <td>0</td>\n",
       "      <td>0</td>\n",
       "      <td>1</td>\n",
       "      <td>0</td>\n",
       "      <td>...</td>\n",
       "      <td>0</td>\n",
       "      <td>0</td>\n",
       "      <td>0</td>\n",
       "      <td>0</td>\n",
       "      <td>0</td>\n",
       "      <td>0</td>\n",
       "      <td>0</td>\n",
       "      <td>0</td>\n",
       "      <td>1</td>\n",
       "      <td>0</td>\n",
       "    </tr>\n",
       "    <tr>\n",
       "      <th>118194</th>\n",
       "      <td>-1.096375</td>\n",
       "      <td>-1.808103</td>\n",
       "      <td>0.589369</td>\n",
       "      <td>1.107045</td>\n",
       "      <td>0</td>\n",
       "      <td>0</td>\n",
       "      <td>0</td>\n",
       "      <td>0</td>\n",
       "      <td>0</td>\n",
       "      <td>0</td>\n",
       "      <td>...</td>\n",
       "      <td>0</td>\n",
       "      <td>0</td>\n",
       "      <td>0</td>\n",
       "      <td>0</td>\n",
       "      <td>0</td>\n",
       "      <td>0</td>\n",
       "      <td>0</td>\n",
       "      <td>0</td>\n",
       "      <td>1</td>\n",
       "      <td>0</td>\n",
       "    </tr>\n",
       "    <tr>\n",
       "      <th>227936</th>\n",
       "      <td>-1.254664</td>\n",
       "      <td>0.917642</td>\n",
       "      <td>0.589369</td>\n",
       "      <td>2.742825</td>\n",
       "      <td>0</td>\n",
       "      <td>0</td>\n",
       "      <td>0</td>\n",
       "      <td>1</td>\n",
       "      <td>0</td>\n",
       "      <td>0</td>\n",
       "      <td>...</td>\n",
       "      <td>0</td>\n",
       "      <td>0</td>\n",
       "      <td>0</td>\n",
       "      <td>0</td>\n",
       "      <td>1</td>\n",
       "      <td>0</td>\n",
       "      <td>0</td>\n",
       "      <td>0</td>\n",
       "      <td>0</td>\n",
       "      <td>0</td>\n",
       "    </tr>\n",
       "    <tr>\n",
       "      <th>7418</th>\n",
       "      <td>-0.463218</td>\n",
       "      <td>0.083885</td>\n",
       "      <td>-1.037170</td>\n",
       "      <td>-0.528735</td>\n",
       "      <td>1</td>\n",
       "      <td>0</td>\n",
       "      <td>0</td>\n",
       "      <td>0</td>\n",
       "      <td>0</td>\n",
       "      <td>0</td>\n",
       "      <td>...</td>\n",
       "      <td>0</td>\n",
       "      <td>1</td>\n",
       "      <td>0</td>\n",
       "      <td>0</td>\n",
       "      <td>0</td>\n",
       "      <td>0</td>\n",
       "      <td>0</td>\n",
       "      <td>0</td>\n",
       "      <td>1</td>\n",
       "      <td>0</td>\n",
       "    </tr>\n",
       "    <tr>\n",
       "      <th>139058</th>\n",
       "      <td>0.011650</td>\n",
       "      <td>-0.188690</td>\n",
       "      <td>0.589369</td>\n",
       "      <td>-0.528735</td>\n",
       "      <td>0</td>\n",
       "      <td>0</td>\n",
       "      <td>0</td>\n",
       "      <td>0</td>\n",
       "      <td>0</td>\n",
       "      <td>0</td>\n",
       "      <td>...</td>\n",
       "      <td>0</td>\n",
       "      <td>0</td>\n",
       "      <td>0</td>\n",
       "      <td>0</td>\n",
       "      <td>1</td>\n",
       "      <td>0</td>\n",
       "      <td>0</td>\n",
       "      <td>0</td>\n",
       "      <td>0</td>\n",
       "      <td>0</td>\n",
       "    </tr>\n",
       "  </tbody>\n",
       "</table>\n",
       "<p>5 rows × 308 columns</p>\n",
       "</div>"
      ],
      "text/plain": [
       "        RegistrationYear     Power  Kilometer  Repaired  \\\n",
       "187602          0.961385 -0.220757  -1.037170 -0.528735   \n",
       "118194         -1.096375 -1.808103   0.589369  1.107045   \n",
       "227936         -1.254664  0.917642   0.589369  2.742825   \n",
       "7418           -0.463218  0.083885  -1.037170 -0.528735   \n",
       "139058          0.011650 -0.188690   0.589369 -0.528735   \n",
       "\n",
       "        VehicleType_convertible  VehicleType_coupe  VehicleType_other  \\\n",
       "187602                        0                  0                  0   \n",
       "118194                        0                  0                  0   \n",
       "227936                        0                  0                  0   \n",
       "7418                          1                  0                  0   \n",
       "139058                        0                  0                  0   \n",
       "\n",
       "        VehicleType_sedan  VehicleType_small  VehicleType_suv  ...  \\\n",
       "187602                  0                  1                0  ...   \n",
       "118194                  0                  0                0  ...   \n",
       "227936                  1                  0                0  ...   \n",
       "7418                    0                  0                0  ...   \n",
       "139058                  0                  0                0  ...   \n",
       "\n",
       "        Model_ypsilon  Model_z_reihe  Model_zafira  FuelType_electric  \\\n",
       "187602              0              0             0                  0   \n",
       "118194              0              0             0                  0   \n",
       "227936              0              0             0                  0   \n",
       "7418                0              1             0                  0   \n",
       "139058              0              0             0                  0   \n",
       "\n",
       "        FuelType_gasoline  FuelType_hybrid  FuelType_lpg  FuelType_other  \\\n",
       "187602                  0                0             0               0   \n",
       "118194                  0                0             0               0   \n",
       "227936                  1                0             0               0   \n",
       "7418                    0                0             0               0   \n",
       "139058                  1                0             0               0   \n",
       "\n",
       "        FuelType_petrol  FuelType_unknown  \n",
       "187602                1                 0  \n",
       "118194                1                 0  \n",
       "227936                0                 0  \n",
       "7418                  1                 0  \n",
       "139058                0                 0  \n",
       "\n",
       "[5 rows x 308 columns]"
      ]
     },
     "metadata": {},
     "output_type": "display_data"
    }
   ],
   "source": [
    "# Проведем скалирование числовых признаков:\n",
    "scaler = StandardScaler()\n",
    "\n",
    "feat_train[num_col] = scaler.fit_transform(feat_train[num_col])\n",
    "feat_valid[num_col] = scaler.transform(feat_valid[num_col])\n",
    "feat_test[num_col] = scaler.transform(feat_test[num_col])\n",
    "\n",
    "display(feat_train.head())"
   ]
  },
  {
   "cell_type": "markdown",
   "metadata": {},
   "source": [
    "Для сравнения моделей будет лучше создать функцию, которая будет записывать все нужные значения. Сделать это можно при помощи класса, один из примеров используем в работе."
   ]
  },
  {
   "cell_type": "code",
   "execution_count": 28,
   "metadata": {},
   "outputs": [],
   "source": [
    "# Класс, который будет сохранять время обучения, время предсказания и RMSE:\n",
    "\n",
    "import time\n",
    "\n",
    "class ModelCalc:\n",
    "    def __init__(self, name, model):\n",
    "        \"\"\"Constructor\"\"\"\n",
    "        self.name = name\n",
    "        self.model = model\n",
    "    \n",
    "    def fit(self, features, target):\n",
    "        start = time.time()    \n",
    "        self.model.fit(features, target)\n",
    "        end = time.time() - start\n",
    "        self.fitTime = end\n",
    "    \n",
    "    def predict(self, features, target):\n",
    "        start = time.time()  \n",
    "        predicted = self.model.predict(features)\n",
    "        end = time.time() - start\n",
    "        self.predictedTime = end\n",
    "        self.rmse = rmse(target, predicted)\n",
    "    \n",
    "    def getResult(self):\n",
    "        return self.name, self.fitTime, self.predictedTime, self.rmse\n",
    "    \n",
    "# Сохранение результатов в списке:\n",
    "result = []"
   ]
  },
  {
   "cell_type": "markdown",
   "metadata": {},
   "source": [
    "Убедимся в работоспособности всего написанного с помощью простой линейной регрессии."
   ]
  },
  {
   "cell_type": "code",
   "execution_count": 29,
   "metadata": {},
   "outputs": [
    {
     "name": "stdout",
     "output_type": "stream",
     "text": [
      "[('Linear regression', 16.815768480300903, 0.11186790466308594, 2541.4257973646613)]\n"
     ]
    }
   ],
   "source": [
    "# Обучение модели линейной регрессии:\n",
    "model_lr = LinearRegression()\n",
    "model_lr_mc = ModelCalc('Linear regression', model_lr)\n",
    "model_lr_mc.fit(feat_train, target_train)\n",
    "model_lr_mc.predict(feat_valid, target_valid)\n",
    "\n",
    "result.append(model_lr_mc.getResult())\n",
    "print(result)"
   ]
  },
  {
   "cell_type": "markdown",
   "metadata": {},
   "source": [
    "Заметим, что мы практически вошли в требуемый диапазон значения метрики."
   ]
  },
  {
   "cell_type": "markdown",
   "metadata": {},
   "source": [
    "### Обучение интересующих моделей"
   ]
  },
  {
   "cell_type": "markdown",
   "metadata": {},
   "source": [
    "По условию задачи необходимо обучить две модели, одна из которых — LightGBM, как минимум одна — не бустинг. Поэтому выбираем LGBMRegressor и CatBoostRegressor.\n",
    "\n",
    "Обучим обе модели, добавим результаты в табличку с результатами и сравним их."
   ]
  },
  {
   "cell_type": "code",
   "execution_count": 30,
   "metadata": {
    "scrolled": true
   },
   "outputs": [],
   "source": [
    "# Подготовим заново признаки:\n",
    "feat = auto.drop(columns='Price')\n",
    "target = auto['Price']\n",
    "\n",
    "# Разделим выборку на обучающую и тестовую:\n",
    "feat_train, target_train, feat_valid, target_valid, feat_test, target_test = train_valid_test(feat, target)"
   ]
  },
  {
   "cell_type": "code",
   "execution_count": 31,
   "metadata": {},
   "outputs": [
    {
     "data": {
      "text/html": [
       "<div>\n",
       "<style scoped>\n",
       "    .dataframe tbody tr th:only-of-type {\n",
       "        vertical-align: middle;\n",
       "    }\n",
       "\n",
       "    .dataframe tbody tr th {\n",
       "        vertical-align: top;\n",
       "    }\n",
       "\n",
       "    .dataframe thead th {\n",
       "        text-align: right;\n",
       "    }\n",
       "</style>\n",
       "<table border=\"1\" class=\"dataframe\">\n",
       "  <thead>\n",
       "    <tr style=\"text-align: right;\">\n",
       "      <th></th>\n",
       "      <th>VehicleType</th>\n",
       "      <th>RegistrationYear</th>\n",
       "      <th>Gearbox</th>\n",
       "      <th>Power</th>\n",
       "      <th>Model</th>\n",
       "      <th>Kilometer</th>\n",
       "      <th>FuelType</th>\n",
       "      <th>Brand</th>\n",
       "      <th>Repaired</th>\n",
       "    </tr>\n",
       "  </thead>\n",
       "  <tbody>\n",
       "    <tr>\n",
       "      <th>187602</th>\n",
       "      <td>small</td>\n",
       "      <td>0.961385</td>\n",
       "      <td>manual</td>\n",
       "      <td>-0.220757</td>\n",
       "      <td>500</td>\n",
       "      <td>-1.037170</td>\n",
       "      <td>petrol</td>\n",
       "      <td>fiat</td>\n",
       "      <td>-0.528735</td>\n",
       "    </tr>\n",
       "    <tr>\n",
       "      <th>118194</th>\n",
       "      <td>unknown</td>\n",
       "      <td>-1.096375</td>\n",
       "      <td>unknown</td>\n",
       "      <td>-1.808103</td>\n",
       "      <td>voyager</td>\n",
       "      <td>0.589369</td>\n",
       "      <td>petrol</td>\n",
       "      <td>chrysler</td>\n",
       "      <td>1.107045</td>\n",
       "    </tr>\n",
       "    <tr>\n",
       "      <th>227936</th>\n",
       "      <td>sedan</td>\n",
       "      <td>-1.254664</td>\n",
       "      <td>manual</td>\n",
       "      <td>0.917642</td>\n",
       "      <td>a6</td>\n",
       "      <td>0.589369</td>\n",
       "      <td>gasoline</td>\n",
       "      <td>audi</td>\n",
       "      <td>2.742825</td>\n",
       "    </tr>\n",
       "    <tr>\n",
       "      <th>7418</th>\n",
       "      <td>convertible</td>\n",
       "      <td>-0.463218</td>\n",
       "      <td>manual</td>\n",
       "      <td>0.083885</td>\n",
       "      <td>z_reihe</td>\n",
       "      <td>-1.037170</td>\n",
       "      <td>petrol</td>\n",
       "      <td>bmw</td>\n",
       "      <td>-0.528735</td>\n",
       "    </tr>\n",
       "    <tr>\n",
       "      <th>139058</th>\n",
       "      <td>bus</td>\n",
       "      <td>0.011650</td>\n",
       "      <td>manual</td>\n",
       "      <td>-0.188690</td>\n",
       "      <td>touran</td>\n",
       "      <td>0.589369</td>\n",
       "      <td>gasoline</td>\n",
       "      <td>volkswagen</td>\n",
       "      <td>-0.528735</td>\n",
       "    </tr>\n",
       "  </tbody>\n",
       "</table>\n",
       "</div>"
      ],
      "text/plain": [
       "        VehicleType  RegistrationYear  Gearbox     Power    Model  Kilometer  \\\n",
       "187602        small          0.961385   manual -0.220757      500  -1.037170   \n",
       "118194      unknown         -1.096375  unknown -1.808103  voyager   0.589369   \n",
       "227936        sedan         -1.254664   manual  0.917642       a6   0.589369   \n",
       "7418    convertible         -0.463218   manual  0.083885  z_reihe  -1.037170   \n",
       "139058          bus          0.011650   manual -0.188690   touran   0.589369   \n",
       "\n",
       "        FuelType       Brand  Repaired  \n",
       "187602    petrol        fiat -0.528735  \n",
       "118194    petrol    chrysler  1.107045  \n",
       "227936  gasoline        audi  2.742825  \n",
       "7418      petrol         bmw -0.528735  \n",
       "139058  gasoline  volkswagen -0.528735  "
      ]
     },
     "metadata": {},
     "output_type": "display_data"
    }
   ],
   "source": [
    "# Добавим команду, чтобы избежать ошибок:\n",
    "pd.options.mode.chained_assignment = None\n",
    "\n",
    "# Проведем скалирование:\n",
    "scaler = StandardScaler()\n",
    "feat_train[num_col] = scaler.fit_transform(feat_train[num_col])\n",
    "feat_valid[num_col] = scaler.transform(feat_valid[num_col])\n",
    "feat_test[num_col] = scaler.transform(feat_test[num_col])\n",
    "\n",
    "display(feat_train.head())"
   ]
  },
  {
   "cell_type": "markdown",
   "metadata": {},
   "source": [
    "LightGBM использует свой алгоритм обработки данных, который плохо обрабатывает категориальные признаки. \n",
    "\n",
    "У CatBoost такой заморочки нет. Поэтому сначала проведём дополнительную обработку для первой модели, а второй передадим всё, как есть."
   ]
  },
  {
   "cell_type": "code",
   "execution_count": 32,
   "metadata": {},
   "outputs": [
    {
     "data": {
      "text/html": [
       "<div>\n",
       "<style scoped>\n",
       "    .dataframe tbody tr th:only-of-type {\n",
       "        vertical-align: middle;\n",
       "    }\n",
       "\n",
       "    .dataframe tbody tr th {\n",
       "        vertical-align: top;\n",
       "    }\n",
       "\n",
       "    .dataframe thead th {\n",
       "        text-align: right;\n",
       "    }\n",
       "</style>\n",
       "<table border=\"1\" class=\"dataframe\">\n",
       "  <thead>\n",
       "    <tr style=\"text-align: right;\">\n",
       "      <th></th>\n",
       "      <th>VehicleType</th>\n",
       "      <th>RegistrationYear</th>\n",
       "      <th>Gearbox</th>\n",
       "      <th>Power</th>\n",
       "      <th>Model</th>\n",
       "      <th>Kilometer</th>\n",
       "      <th>FuelType</th>\n",
       "      <th>Brand</th>\n",
       "      <th>Repaired</th>\n",
       "    </tr>\n",
       "  </thead>\n",
       "  <tbody>\n",
       "    <tr>\n",
       "      <th>187602</th>\n",
       "      <td>5.0</td>\n",
       "      <td>0.961385</td>\n",
       "      <td>1.0</td>\n",
       "      <td>-0.220757</td>\n",
       "      <td>13.0</td>\n",
       "      <td>-1.037170</td>\n",
       "      <td>6.0</td>\n",
       "      <td>9.0</td>\n",
       "      <td>0.0</td>\n",
       "    </tr>\n",
       "    <tr>\n",
       "      <th>118194</th>\n",
       "      <td>7.0</td>\n",
       "      <td>-1.096375</td>\n",
       "      <td>2.0</td>\n",
       "      <td>-1.808103</td>\n",
       "      <td>238.0</td>\n",
       "      <td>0.589369</td>\n",
       "      <td>6.0</td>\n",
       "      <td>4.0</td>\n",
       "      <td>1.0</td>\n",
       "    </tr>\n",
       "    <tr>\n",
       "      <th>227936</th>\n",
       "      <td>4.0</td>\n",
       "      <td>-1.254664</td>\n",
       "      <td>1.0</td>\n",
       "      <td>0.917642</td>\n",
       "      <td>31.0</td>\n",
       "      <td>0.589369</td>\n",
       "      <td>2.0</td>\n",
       "      <td>1.0</td>\n",
       "      <td>2.0</td>\n",
       "    </tr>\n",
       "    <tr>\n",
       "      <th>7418</th>\n",
       "      <td>1.0</td>\n",
       "      <td>-0.463218</td>\n",
       "      <td>1.0</td>\n",
       "      <td>0.083885</td>\n",
       "      <td>247.0</td>\n",
       "      <td>-1.037170</td>\n",
       "      <td>6.0</td>\n",
       "      <td>2.0</td>\n",
       "      <td>0.0</td>\n",
       "    </tr>\n",
       "    <tr>\n",
       "      <th>139058</th>\n",
       "      <td>0.0</td>\n",
       "      <td>0.011650</td>\n",
       "      <td>1.0</td>\n",
       "      <td>-0.188690</td>\n",
       "      <td>220.0</td>\n",
       "      <td>0.589369</td>\n",
       "      <td>2.0</td>\n",
       "      <td>38.0</td>\n",
       "      <td>0.0</td>\n",
       "    </tr>\n",
       "  </tbody>\n",
       "</table>\n",
       "</div>"
      ],
      "text/plain": [
       "        VehicleType  RegistrationYear  Gearbox     Power  Model  Kilometer  \\\n",
       "187602          5.0          0.961385      1.0 -0.220757   13.0  -1.037170   \n",
       "118194          7.0         -1.096375      2.0 -1.808103  238.0   0.589369   \n",
       "227936          4.0         -1.254664      1.0  0.917642   31.0   0.589369   \n",
       "7418            1.0         -0.463218      1.0  0.083885  247.0  -1.037170   \n",
       "139058          0.0          0.011650      1.0 -0.188690  220.0   0.589369   \n",
       "\n",
       "        FuelType  Brand  Repaired  \n",
       "187602       6.0    9.0       0.0  \n",
       "118194       6.0    4.0       1.0  \n",
       "227936       2.0    1.0       2.0  \n",
       "7418         6.0    2.0       0.0  \n",
       "139058       2.0   38.0       0.0  "
      ]
     },
     "metadata": {},
     "output_type": "display_data"
    }
   ],
   "source": [
    "# напомним список столбцов с категориальными данными:\n",
    "cat_col = ['VehicleType', 'Gearbox', 'Model', 'FuelType', 'Brand', 'Repaired']\n",
    "\n",
    "# Обработка категориальных признаков для GBM:\n",
    "feat_train_gbm = feat_train.copy()\n",
    "feat_valid_gbm = feat_valid.copy()\n",
    "feat_test_gbm = feat_test.copy()\n",
    "\n",
    "encoder = OrdinalEncoder(handle_unknown='ignore')\n",
    "feat_train_gbm[cat_col] = encoder.fit_transform(feat_train_gbm[cat_col])\n",
    "feat_valid_gbm[cat_col] = encoder.transform(feat_valid_gbm[cat_col])\n",
    "feat_test_gbm[cat_col] = encoder.transform(feat_test_gbm[cat_col])\n",
    "\n",
    "display(feat_train_gbm.head())"
   ]
  },
  {
   "cell_type": "markdown",
   "metadata": {},
   "source": [
    "Ввиду длительного обучения, гиперпараметры меняем в разумных пределах."
   ]
  },
  {
   "cell_type": "code",
   "execution_count": 33,
   "metadata": {
    "scrolled": true
   },
   "outputs": [
    {
     "name": "stdout",
     "output_type": "stream",
     "text": [
      "[LightGBM] [Warning] Auto-choosing row-wise multi-threading, the overhead of testing was 0.003919 seconds.\n",
      "You can set `force_row_wise=true` to remove the overhead.\n",
      "And if memory is not enough, you can set `force_col_wise=true`.\n",
      "[LightGBM] [Warning] Auto-choosing row-wise multi-threading, the overhead of testing was 0.095642 seconds.\n",
      "You can set `force_row_wise=true` to remove the overhead.\n",
      "And if memory is not enough, you can set `force_col_wise=true`.\n",
      "[LightGBM] [Warning] Auto-choosing row-wise multi-threading, the overhead of testing was 0.100782 seconds.\n",
      "You can set `force_row_wise=true` to remove the overhead.\n",
      "And if memory is not enough, you can set `force_col_wise=true`.\n",
      "[LightGBM] [Warning] Auto-choosing row-wise multi-threading, the overhead of testing was 0.093283 seconds.\n",
      "You can set `force_row_wise=true` to remove the overhead.\n",
      "And if memory is not enough, you can set `force_col_wise=true`.\n",
      "[LightGBM] [Warning] Auto-choosing row-wise multi-threading, the overhead of testing was 0.100187 seconds.\n",
      "You can set `force_row_wise=true` to remove the overhead.\n",
      "And if memory is not enough, you can set `force_col_wise=true`.\n",
      "[LightGBM] [Warning] Auto-choosing row-wise multi-threading, the overhead of testing was 0.004319 seconds.\n",
      "You can set `force_row_wise=true` to remove the overhead.\n",
      "And if memory is not enough, you can set `force_col_wise=true`.\n",
      "[LightGBM] [Warning] Auto-choosing row-wise multi-threading, the overhead of testing was 0.003228 seconds.\n",
      "You can set `force_row_wise=true` to remove the overhead.\n",
      "And if memory is not enough, you can set `force_col_wise=true`.\n",
      "[LightGBM] [Warning] Auto-choosing row-wise multi-threading, the overhead of testing was 0.003626 seconds.\n",
      "You can set `force_row_wise=true` to remove the overhead.\n",
      "And if memory is not enough, you can set `force_col_wise=true`.\n",
      "[LightGBM] [Warning] Auto-choosing row-wise multi-threading, the overhead of testing was 0.085406 seconds.\n",
      "You can set `force_row_wise=true` to remove the overhead.\n",
      "And if memory is not enough, you can set `force_col_wise=true`.\n",
      "[LightGBM] [Warning] Auto-choosing row-wise multi-threading, the overhead of testing was 0.004118 seconds.\n",
      "You can set `force_row_wise=true` to remove the overhead.\n",
      "And if memory is not enough, you can set `force_col_wise=true`.\n",
      "[LightGBM] [Warning] Auto-choosing row-wise multi-threading, the overhead of testing was 0.003477 seconds.\n",
      "You can set `force_row_wise=true` to remove the overhead.\n",
      "And if memory is not enough, you can set `force_col_wise=true`.\n",
      "[LightGBM] [Warning] Auto-choosing row-wise multi-threading, the overhead of testing was 0.008356 seconds.\n",
      "You can set `force_row_wise=true` to remove the overhead.\n",
      "And if memory is not enough, you can set `force_col_wise=true`.\n",
      "[LightGBM] [Warning] Auto-choosing row-wise multi-threading, the overhead of testing was 0.299012 seconds.\n",
      "You can set `force_row_wise=true` to remove the overhead.\n",
      "And if memory is not enough, you can set `force_col_wise=true`.\n",
      "[LightGBM] [Warning] Auto-choosing row-wise multi-threading, the overhead of testing was 0.004002 seconds.\n",
      "You can set `force_row_wise=true` to remove the overhead.\n",
      "And if memory is not enough, you can set `force_col_wise=true`.\n",
      "[LightGBM] [Warning] Auto-choosing row-wise multi-threading, the overhead of testing was 0.288942 seconds.\n",
      "You can set `force_row_wise=true` to remove the overhead.\n",
      "And if memory is not enough, you can set `force_col_wise=true`.\n",
      "[LightGBM] [Warning] Auto-choosing row-wise multi-threading, the overhead of testing was 0.005358 seconds.\n",
      "You can set `force_row_wise=true` to remove the overhead.\n",
      "And if memory is not enough, you can set `force_col_wise=true`.\n",
      "Лучшие параметры модели: {'learning_rate': 1.0, 'n_estimators': 40, 'num_leaves': 30}\n"
     ]
    }
   ],
   "source": [
    "# Обучение GBM:\n",
    "gbm = LGBMRegressor(boosting_type='gbdt', verbose=0, seed=RANDOM_STATE)\n",
    "gbm_params = {'learning_rate': np.logspace(-5, 0, 5), 'n_estimators': range(40, 60, 20), 'num_leaves': range(30, 40, 10)}\n",
    "\n",
    "grid_gbm = GridSearchCV(gbm, gbm_params, cv=3, scoring='neg_mean_squared_error')\n",
    "grid_gbm.fit(feat_train_gbm, target_train);\n",
    "\n",
    "print('Лучшие параметры модели:', grid_gbm.best_params_)"
   ]
  },
  {
   "cell_type": "code",
   "execution_count": 34,
   "metadata": {},
   "outputs": [
    {
     "name": "stdout",
     "output_type": "stream",
     "text": [
      "[LightGBM] [Warning] Auto-choosing row-wise multi-threading, the overhead of testing was 0.193448 seconds.\n",
      "You can set `force_row_wise=true` to remove the overhead.\n",
      "And if memory is not enough, you can set `force_col_wise=true`.\n",
      "[('Linear regression', 16.815768480300903, 0.11186790466308594, 2541.4257973646613), ('LightGBM', 2.206404447555542, 0.19756317138671875, 1782.9348586054164)]\n"
     ]
    }
   ],
   "source": [
    "# Сделаем предсказания по сборке лучшей модели:\n",
    "model_gbm = grid_gbm.best_estimator_\n",
    "model_gbm_mc = ModelCalc('LightGBM', model_gbm)\n",
    "model_gbm_mc.fit(feat_train_gbm, target_train)\n",
    "model_gbm_mc.predict(feat_valid_gbm, target_valid)\n",
    "\n",
    "result.append(model_gbm_mc.getResult())\n",
    "print(result)"
   ]
  },
  {
   "cell_type": "markdown",
   "metadata": {},
   "source": [
    "Чудно, вместо 2541 получили значение метрики RMSE в 1782. Осталось проверить результаты у CatBoost."
   ]
  },
  {
   "cell_type": "code",
   "execution_count": 35,
   "metadata": {},
   "outputs": [
    {
     "name": "stdout",
     "output_type": "stream",
     "text": [
      "Лучшие параметры модели: {'depth': 9, 'iterations': 40, 'learning_rate': 1.0}\n"
     ]
    }
   ],
   "source": [
    "# Модель CatBoost:\n",
    "cbr = CatBoostRegressor(loss_function='RMSE',silent=True, cat_features=ohe_col, random_seed=RANDOM_STATE)\n",
    "cbr_params = {'learning_rate': np.logspace(-5, 0, 5),'iterations': range(20, 60, 20),'depth': range(5, 10, 2)}\n",
    "\n",
    "grid_cbr = GridSearchCV(cbr, cbr_params, cv=3, scoring='neg_mean_squared_error')\n",
    "grid_cbr.fit(feat_train, target_train);\n",
    "\n",
    "print('Лучшие параметры модели:', grid_cbr.best_params_)"
   ]
  },
  {
   "cell_type": "code",
   "execution_count": 36,
   "metadata": {},
   "outputs": [
    {
     "name": "stdout",
     "output_type": "stream",
     "text": [
      "[('Linear regression', 16.815768480300903, 0.11186790466308594, 2541.4257973646613), ('LightGBM', 2.206404447555542, 0.19756317138671875, 1782.9348586054164), ('CatBoost', 4.312258720397949, 0.06806159019470215, 1722.1186368426695)]\n"
     ]
    }
   ],
   "source": [
    "# Посмотрим, что получилось в итоге\n",
    "model_cbr = grid_cbr.best_estimator_\n",
    "model_cbr_mc = ModelCalc('CatBoost', model_cbr)\n",
    "model_cbr_mc.fit(feat_train, target_train)\n",
    "model_cbr_mc.predict(feat_valid, target_valid)\n",
    "\n",
    "result.append(model_cbr_mc.getResult())\n",
    "print(result)"
   ]
  },
  {
   "cell_type": "markdown",
   "metadata": {},
   "source": [
    "Мало того, что метрика лучше, так ещё и скорость предсказания в разы быстрее."
   ]
  },
  {
   "cell_type": "markdown",
   "metadata": {},
   "source": [
    "### Вывод:\n",
    "Были подготовлены необходимые функции для подсчёта метрики RMSE и дробления исходного датафрейма на выборки.\n",
    "\n",
    "В результате работы обучены 3 модели - 1 обычная и 2 с бустом: Linear Regression, LightGBM и CatBoost. По предварительной оценке можно сказать, что модели буста справляются с задачей предсказания целевого признака намного лучше, чем обычные.\n",
    "\n",
    "Результаты предсказаний всех моделей занесены в список result, что позволит оперативно ознакомиться со всеми данными и сделать необходимые выводы."
   ]
  },
  {
   "cell_type": "markdown",
   "metadata": {},
   "source": [
    "## Анализ моделей"
   ]
  },
  {
   "cell_type": "markdown",
   "metadata": {},
   "source": [
    "Теперь осталось только совместить полученные результаты и сделать необходимые выводы. Для удобства напишем функцию вывода данных из сформированного списка."
   ]
  },
  {
   "cell_type": "code",
   "execution_count": 37,
   "metadata": {},
   "outputs": [
    {
     "name": "stdout",
     "output_type": "stream",
     "text": [
      "|            Модель| Время обучения|  Время предсказания|           RMSE|\n",
      "| Linear regression|      16.815768|            0.111868|    2541.425797|\n",
      "|          LightGBM|       2.206404|            0.197563|    1782.934859|\n",
      "|          CatBoost|       4.312259|            0.068062|    1722.118637|\n"
     ]
    }
   ],
   "source": [
    "# Функция для красивого вывода результатов:\n",
    "def nice_print(result):\n",
    "    print('|{: >18}|{: >15}|{: >20}|{: >15}|'.format('Модель', 'Время обучения', 'Время предсказания', 'RMSE'))\n",
    "    for res in result:\n",
    "        print('|{: >18}|{: >15f}|{: >20f}|{: >15f}|'.format(res[0], res[1], res[2], res[3]))\n",
    "        \n",
    "nice_print(result)"
   ]
  },
  {
   "cell_type": "markdown",
   "metadata": {},
   "source": [
    "Совершим предсказания лучшей модели на тестовой выборке."
   ]
  },
  {
   "cell_type": "code",
   "execution_count": 38,
   "metadata": {},
   "outputs": [
    {
     "name": "stdout",
     "output_type": "stream",
     "text": [
      "|            Модель| Время обучения|  Время предсказания|           RMSE|\n",
      "|          CatBoost|       4.312259|            0.069701|    1697.827294|\n"
     ]
    }
   ],
   "source": [
    "# Предсказания лучшей модели:\n",
    "best_model = model_cbr_mc\n",
    "best_model.predict(feat_test, target_test)\n",
    "\n",
    "char_of_best = []\n",
    "char_of_best.append(best_model.getResult())\n",
    "nice_print(char_of_best)"
   ]
  },
  {
   "cell_type": "markdown",
   "metadata": {},
   "source": [
    "### Вывод:\n",
    "По последнему выводу наглядно представлен результат проделанной работы.\n",
    "  - В условие RMSE < 2500 уложились все модели (простим линейной регрессии небольшое несоответствие), однако модели с бустом справили с задачей гораздо лучше (LightGBM с 1782 и CatBoost с 1722);\n",
    "  - Время предсказания у LightGBM оказалось наибольшим, линейная модель быстрее на треть, а вот CatBoost справилась в три раза быстрее конкурентов;\n",
    "  - Минимальное время обучения (3 секунды) у LightGBM (с ограниченной вариацией гиперпараметров), 4 секунд у CatBoost, гораздо дольше обучалась линейная модель.\n",
    "  \n",
    "Наилучшим вариантом для заказчика за счёт наименьшего времени предсказывания и максимальной метрики является модель CatBoost со следующими параметрами: depth = 9, iterations = 40, learning_rate = 1.0. Метрика RMSE на тестовой выборке оказалась равна 1697, что полностью удовлетворяет условию задачи."
   ]
  },
  {
   "cell_type": "markdown",
   "metadata": {},
   "source": [
    "## Итоговый вывод:\n",
    "Получена таблица с данными о сервисе продажи автомобилей. Необходимо подобрать заказчику оптимальную модель МО, которая будет удовлетворять обозначенным условиям.\n",
    "\n",
    "Был произведён первичный осмотр данных из предоставленной таблицы. Сразу выявлены следующие проблемы: достаточное количество пропусков и несоответствие некоторых типов данных. Совершены следующие преобразования:\n",
    "\n",
    "  1) Удалены строки с пропусками;\\\n",
    "  2) Проверена корректность данных;\\\n",
    "  3) Удалены дубликаты;\\\n",
    "  4) Обработаны выбросы.\n",
    "  \n",
    "Кроме этого, произведена подготовка данных для обучения моделей - удалены неинформативные столбцы.\n",
    "\n",
    "Были подготовлены необходимые функции для подсчёта метрики RMSE и дробления исходного датафрейма на выборки.\n",
    "\n",
    "В результате работы обучены 3 модели - 1 обычная и 2 с бустом: Linear Regression, LightGBM и CatBoost. По предварительной оценке можно сказать, что модели буста справляются с задачей предсказания целевого признака намного лучше, чем обычные.\n",
    "\n",
    "Результаты предсказаний всех моделей занесены в список result, что позволит оперативно ознакомиться со всеми данными и сделать необходимые выводы.\n",
    "\n",
    "По последнему выводу наглядно представлен результат проделанной работы.\n",
    "  - В условие RMSE < 2500 уложились все модели (простим линейной регрессии небольшое несоответствие), однако модели с бустом справили с задачей гораздо лучше (LightGBM с 1782 и CatBoost с 1722);\n",
    "  - Время предсказания у LightGBM оказалось наибольшим, линейная модель быстрее на треть, а вот CatBoost справилась в три раза быстрее конкурентов;\n",
    "  - Минимальное время обучения (3 секунды) у LightGBM (с ограниченной вариацией гиперпараметров), 4 секунд у CatBoost, гораздо дольше обучалась линейная модель.\n",
    "  \n",
    "Наилучшим вариантом для заказчика за счёт наименьшего времени предсказывания и максимальной метрики является модель CatBoost со следующими параметрами: depth = 9, iterations = 40, learning_rate = 1.0. Метрика RMSE на тестовой выборке оказалась равна 1697, что полностью удовлетворяет условию задачи.\n",
    "\n",
    "Работа проделана в полном объёме, все цели достигнуты, результат удовлетворительный.\n",
    "\n",
    "## Рекомендации для бизнеса:\n",
    "В исходной таблице было много недочётов, необходимо обратить внимание на заполнение данных при выставлении машин на продажу. Практически треть данных пришлось удалить, но благодаря большому общему объёму исследование стало возможным.\n",
    "\n",
    "Поставленная задача выполнена, дополнительные исследования не требуются."
   ]
  }
 ],
 "metadata": {
  "ExecuteTimeLog": [
   {
    "duration": 1387,
    "start_time": "2024-04-14T19:54:42.452Z"
   },
   {
    "duration": 10,
    "start_time": "2024-04-14T19:54:52.643Z"
   },
   {
    "duration": 10,
    "start_time": "2024-04-14T19:55:01.345Z"
   },
   {
    "duration": 313,
    "start_time": "2024-04-14T19:55:14.019Z"
   },
   {
    "duration": 5,
    "start_time": "2024-04-14T19:55:28.075Z"
   },
   {
    "duration": 1367,
    "start_time": "2024-04-14T19:57:30.250Z"
   },
   {
    "duration": 6,
    "start_time": "2024-04-14T20:40:32.877Z"
   },
   {
    "duration": 19,
    "start_time": "2024-04-14T20:40:42.154Z"
   },
   {
    "duration": 50,
    "start_time": "2024-04-14T20:41:06.103Z"
   },
   {
    "duration": 39,
    "start_time": "2024-04-14T21:00:33.006Z"
   },
   {
    "duration": 147,
    "start_time": "2024-04-14T21:03:28.826Z"
   },
   {
    "duration": 161,
    "start_time": "2024-04-14T21:04:17.962Z"
   },
   {
    "duration": 371,
    "start_time": "2024-04-14T21:22:51.291Z"
   },
   {
    "duration": 332,
    "start_time": "2024-04-14T21:28:23.141Z"
   },
   {
    "duration": 24,
    "start_time": "2024-04-14T21:29:09.874Z"
   },
   {
    "duration": 16,
    "start_time": "2024-04-14T21:29:41.231Z"
   },
   {
    "duration": 89,
    "start_time": "2024-04-14T21:31:30.334Z"
   },
   {
    "duration": 376,
    "start_time": "2024-04-14T21:34:33.143Z"
   },
   {
    "duration": 772,
    "start_time": "2024-04-14T21:35:11.330Z"
   },
   {
    "duration": 573,
    "start_time": "2024-04-14T21:46:03.516Z"
   },
   {
    "duration": 11,
    "start_time": "2024-04-14T21:48:10.838Z"
   },
   {
    "duration": 524,
    "start_time": "2024-04-14T21:49:33.089Z"
   },
   {
    "duration": 467,
    "start_time": "2024-04-14T21:51:29.301Z"
   },
   {
    "duration": 3,
    "start_time": "2024-04-14T21:52:51.826Z"
   },
   {
    "duration": 508,
    "start_time": "2024-04-14T21:53:01.984Z"
   },
   {
    "duration": 1436,
    "start_time": "2024-04-14T21:53:15.536Z"
   },
   {
    "duration": 1097,
    "start_time": "2024-04-14T21:53:17.698Z"
   },
   {
    "duration": 39,
    "start_time": "2024-04-14T21:53:18.797Z"
   },
   {
    "duration": 176,
    "start_time": "2024-04-14T21:53:18.839Z"
   },
   {
    "duration": 335,
    "start_time": "2024-04-14T21:53:19.191Z"
   },
   {
    "duration": 83,
    "start_time": "2024-04-14T21:53:19.580Z"
   },
   {
    "duration": 398,
    "start_time": "2024-04-14T21:53:19.957Z"
   },
   {
    "duration": 729,
    "start_time": "2024-04-14T21:53:20.357Z"
   },
   {
    "duration": 544,
    "start_time": "2024-04-14T21:53:21.091Z"
   },
   {
    "duration": 9,
    "start_time": "2024-04-14T21:53:21.637Z"
   },
   {
    "duration": 556,
    "start_time": "2024-04-14T21:53:21.927Z"
   },
   {
    "duration": 505,
    "start_time": "2024-04-14T21:53:22.486Z"
   },
   {
    "duration": 4,
    "start_time": "2024-04-14T21:53:22.992Z"
   },
   {
    "duration": 37,
    "start_time": "2024-04-14T21:57:16.988Z"
   },
   {
    "duration": 232,
    "start_time": "2024-04-14T21:57:58.171Z"
   },
   {
    "duration": 80,
    "start_time": "2024-04-14T21:58:38.531Z"
   },
   {
    "duration": 84,
    "start_time": "2024-04-14T21:59:49.458Z"
   },
   {
    "duration": 88,
    "start_time": "2024-04-14T22:01:18.868Z"
   },
   {
    "duration": 81,
    "start_time": "2024-04-14T22:01:52.622Z"
   },
   {
    "duration": 531,
    "start_time": "2024-04-14T22:05:26.932Z"
   },
   {
    "duration": 489,
    "start_time": "2024-04-14T22:10:00.531Z"
   },
   {
    "duration": 539,
    "start_time": "2024-04-14T22:15:01.947Z"
   },
   {
    "duration": 47,
    "start_time": "2024-04-14T22:29:14.110Z"
   },
   {
    "duration": 114,
    "start_time": "2024-04-14T22:29:24.842Z"
   },
   {
    "duration": 1427,
    "start_time": "2024-04-14T22:29:40.312Z"
   },
   {
    "duration": 1071,
    "start_time": "2024-04-14T22:29:41.741Z"
   },
   {
    "duration": 36,
    "start_time": "2024-04-14T22:29:42.814Z"
   },
   {
    "duration": 161,
    "start_time": "2024-04-14T22:29:42.852Z"
   },
   {
    "duration": 349,
    "start_time": "2024-04-14T22:29:43.015Z"
   },
   {
    "duration": 91,
    "start_time": "2024-04-14T22:29:43.365Z"
   },
   {
    "duration": 394,
    "start_time": "2024-04-14T22:29:43.458Z"
   },
   {
    "duration": 735,
    "start_time": "2024-04-14T22:29:43.854Z"
   },
   {
    "duration": 525,
    "start_time": "2024-04-14T22:29:44.591Z"
   },
   {
    "duration": 8,
    "start_time": "2024-04-14T22:29:45.118Z"
   },
   {
    "duration": 537,
    "start_time": "2024-04-14T22:29:45.128Z"
   },
   {
    "duration": 532,
    "start_time": "2024-04-14T22:29:45.666Z"
   },
   {
    "duration": 3,
    "start_time": "2024-04-14T22:29:46.200Z"
   },
   {
    "duration": 487,
    "start_time": "2024-04-14T22:29:46.204Z"
   },
   {
    "duration": 564,
    "start_time": "2024-04-14T22:29:46.692Z"
   },
   {
    "duration": 502,
    "start_time": "2024-04-14T22:29:47.257Z"
   },
   {
    "duration": 48,
    "start_time": "2024-04-14T22:29:47.761Z"
   },
   {
    "duration": 30,
    "start_time": "2024-04-14T22:31:09.515Z"
   },
   {
    "duration": 1764,
    "start_time": "2024-04-15T16:18:57.390Z"
   },
   {
    "duration": 3194,
    "start_time": "2024-04-15T16:18:59.157Z"
   },
   {
    "duration": 47,
    "start_time": "2024-04-15T16:19:02.352Z"
   },
   {
    "duration": 181,
    "start_time": "2024-04-15T16:19:02.402Z"
   },
   {
    "duration": 405,
    "start_time": "2024-04-15T16:19:02.584Z"
   },
   {
    "duration": 111,
    "start_time": "2024-04-15T16:19:02.991Z"
   },
   {
    "duration": 367,
    "start_time": "2024-04-15T16:19:03.104Z"
   },
   {
    "duration": 779,
    "start_time": "2024-04-15T16:19:03.473Z"
   },
   {
    "duration": 608,
    "start_time": "2024-04-15T16:19:04.254Z"
   },
   {
    "duration": 20,
    "start_time": "2024-04-15T16:19:04.864Z"
   },
   {
    "duration": 553,
    "start_time": "2024-04-15T16:19:04.886Z"
   },
   {
    "duration": 578,
    "start_time": "2024-04-15T16:19:05.441Z"
   },
   {
    "duration": 4,
    "start_time": "2024-04-15T16:19:06.020Z"
   },
   {
    "duration": 530,
    "start_time": "2024-04-15T16:19:06.025Z"
   },
   {
    "duration": 544,
    "start_time": "2024-04-15T16:19:06.557Z"
   },
   {
    "duration": 533,
    "start_time": "2024-04-15T16:19:07.103Z"
   },
   {
    "duration": 44,
    "start_time": "2024-04-15T16:19:07.638Z"
   },
   {
    "duration": 17,
    "start_time": "2024-04-15T16:19:07.683Z"
   },
   {
    "duration": 63,
    "start_time": "2024-04-15T16:43:27.032Z"
   },
   {
    "duration": 3,
    "start_time": "2024-04-15T16:49:11.011Z"
   },
   {
    "duration": 2,
    "start_time": "2024-04-15T16:49:16.973Z"
   },
   {
    "duration": 15,
    "start_time": "2024-04-15T16:51:21.459Z"
   },
   {
    "duration": 39,
    "start_time": "2024-04-15T16:53:53.038Z"
   },
   {
    "duration": 35,
    "start_time": "2024-04-15T16:54:12.861Z"
   },
   {
    "duration": 3,
    "start_time": "2024-04-15T16:54:42.134Z"
   },
   {
    "duration": 6,
    "start_time": "2024-04-15T16:55:53.766Z"
   },
   {
    "duration": 4,
    "start_time": "2024-04-15T17:01:57.875Z"
   },
   {
    "duration": 3,
    "start_time": "2024-04-15T17:02:40.958Z"
   },
   {
    "duration": 783,
    "start_time": "2024-04-15T17:03:50.741Z"
   },
   {
    "duration": 3,
    "start_time": "2024-04-15T17:04:53.396Z"
   },
   {
    "duration": 6,
    "start_time": "2024-04-15T17:04:55.660Z"
   },
   {
    "duration": 3,
    "start_time": "2024-04-15T17:04:55.961Z"
   },
   {
    "duration": 370,
    "start_time": "2024-04-15T17:04:56.406Z"
   },
   {
    "duration": 1410,
    "start_time": "2024-04-15T17:05:40.752Z"
   },
   {
    "duration": 1076,
    "start_time": "2024-04-15T17:05:42.164Z"
   },
   {
    "duration": 53,
    "start_time": "2024-04-15T17:05:43.241Z"
   },
   {
    "duration": 141,
    "start_time": "2024-04-15T17:05:43.296Z"
   },
   {
    "duration": 376,
    "start_time": "2024-04-15T17:05:43.438Z"
   },
   {
    "duration": 93,
    "start_time": "2024-04-15T17:05:43.816Z"
   },
   {
    "duration": 363,
    "start_time": "2024-04-15T17:05:43.911Z"
   },
   {
    "duration": 800,
    "start_time": "2024-04-15T17:05:44.276Z"
   },
   {
    "duration": 540,
    "start_time": "2024-04-15T17:05:45.078Z"
   },
   {
    "duration": 10,
    "start_time": "2024-04-15T17:05:45.620Z"
   },
   {
    "duration": 560,
    "start_time": "2024-04-15T17:05:45.633Z"
   },
   {
    "duration": 545,
    "start_time": "2024-04-15T17:05:46.196Z"
   },
   {
    "duration": 3,
    "start_time": "2024-04-15T17:05:46.743Z"
   },
   {
    "duration": 455,
    "start_time": "2024-04-15T17:05:46.747Z"
   },
   {
    "duration": 549,
    "start_time": "2024-04-15T17:05:47.203Z"
   },
   {
    "duration": 509,
    "start_time": "2024-04-15T17:05:47.754Z"
   },
   {
    "duration": 39,
    "start_time": "2024-04-15T17:05:48.265Z"
   },
   {
    "duration": 17,
    "start_time": "2024-04-15T17:05:48.306Z"
   },
   {
    "duration": 60,
    "start_time": "2024-04-15T17:05:49.002Z"
   },
   {
    "duration": 3,
    "start_time": "2024-04-15T17:05:49.213Z"
   },
   {
    "duration": 2,
    "start_time": "2024-04-15T17:05:49.744Z"
   },
   {
    "duration": 6,
    "start_time": "2024-04-15T17:05:49.947Z"
   },
   {
    "duration": 3,
    "start_time": "2024-04-15T17:05:50.156Z"
   },
   {
    "duration": 519,
    "start_time": "2024-04-15T17:05:50.359Z"
   },
   {
    "duration": 1323,
    "start_time": "2024-04-15T17:06:05.105Z"
   },
   {
    "duration": 5,
    "start_time": "2024-04-15T17:07:09.669Z"
   },
   {
    "duration": 3,
    "start_time": "2024-04-15T17:07:10.132Z"
   },
   {
    "duration": 1381,
    "start_time": "2024-04-15T17:11:07.875Z"
   },
   {
    "duration": 1027,
    "start_time": "2024-04-15T17:11:09.257Z"
   },
   {
    "duration": 44,
    "start_time": "2024-04-15T17:11:10.530Z"
   },
   {
    "duration": 128,
    "start_time": "2024-04-15T17:11:10.915Z"
   },
   {
    "duration": 348,
    "start_time": "2024-04-15T17:11:11.318Z"
   },
   {
    "duration": 87,
    "start_time": "2024-04-15T17:11:11.711Z"
   },
   {
    "duration": 348,
    "start_time": "2024-04-15T17:11:12.110Z"
   },
   {
    "duration": 713,
    "start_time": "2024-04-15T17:11:12.460Z"
   },
   {
    "duration": 534,
    "start_time": "2024-04-15T17:11:13.175Z"
   },
   {
    "duration": 9,
    "start_time": "2024-04-15T17:11:13.711Z"
   },
   {
    "duration": 525,
    "start_time": "2024-04-15T17:11:13.721Z"
   },
   {
    "duration": 515,
    "start_time": "2024-04-15T17:11:14.248Z"
   },
   {
    "duration": 3,
    "start_time": "2024-04-15T17:11:14.765Z"
   },
   {
    "duration": 459,
    "start_time": "2024-04-15T17:11:14.829Z"
   },
   {
    "duration": 551,
    "start_time": "2024-04-15T17:11:15.289Z"
   },
   {
    "duration": 488,
    "start_time": "2024-04-15T17:11:15.842Z"
   },
   {
    "duration": 34,
    "start_time": "2024-04-15T17:11:16.332Z"
   },
   {
    "duration": 17,
    "start_time": "2024-04-15T17:11:16.661Z"
   },
   {
    "duration": 60,
    "start_time": "2024-04-15T17:11:17.516Z"
   },
   {
    "duration": 4,
    "start_time": "2024-04-15T17:11:17.722Z"
   },
   {
    "duration": 3,
    "start_time": "2024-04-15T17:11:18.127Z"
   },
   {
    "duration": 4,
    "start_time": "2024-04-15T17:11:18.344Z"
   },
   {
    "duration": 2,
    "start_time": "2024-04-15T17:11:18.556Z"
   },
   {
    "duration": 291147,
    "start_time": "2024-04-15T17:11:18.748Z"
   },
   {
    "duration": 108,
    "start_time": "2024-04-15T17:16:56.698Z"
   },
   {
    "duration": 4,
    "start_time": "2024-04-15T17:17:53.513Z"
   },
   {
    "duration": 3,
    "start_time": "2024-04-15T17:18:00.257Z"
   },
   {
    "duration": 283329,
    "start_time": "2024-04-15T17:18:04.953Z"
   },
   {
    "duration": 15,
    "start_time": "2024-04-15T17:22:48.284Z"
   },
   {
    "duration": 405,
    "start_time": "2024-04-15T17:25:42.159Z"
   },
   {
    "duration": 208,
    "start_time": "2024-04-15T17:27:05.595Z"
   },
   {
    "duration": 10,
    "start_time": "2024-04-15T17:31:25.330Z"
   },
   {
    "duration": 10,
    "start_time": "2024-04-15T17:31:35.738Z"
   },
   {
    "duration": 21,
    "start_time": "2024-04-15T17:32:42.774Z"
   },
   {
    "duration": 15,
    "start_time": "2024-04-15T17:33:10.296Z"
   },
   {
    "duration": 1389,
    "start_time": "2024-04-15T17:33:19.533Z"
   },
   {
    "duration": 1019,
    "start_time": "2024-04-15T17:33:20.923Z"
   },
   {
    "duration": 54,
    "start_time": "2024-04-15T17:34:02.078Z"
   },
   {
    "duration": 1069,
    "start_time": "2024-04-15T17:34:05.917Z"
   },
   {
    "duration": 39,
    "start_time": "2024-04-15T17:34:06.988Z"
   },
   {
    "duration": 132,
    "start_time": "2024-04-15T17:34:07.239Z"
   },
   {
    "duration": 333,
    "start_time": "2024-04-15T17:34:07.595Z"
   },
   {
    "duration": 90,
    "start_time": "2024-04-15T17:34:07.940Z"
   },
   {
    "duration": 360,
    "start_time": "2024-04-15T17:34:08.303Z"
   },
   {
    "duration": 734,
    "start_time": "2024-04-15T17:34:08.665Z"
   },
   {
    "duration": 540,
    "start_time": "2024-04-15T17:34:09.401Z"
   },
   {
    "duration": 12,
    "start_time": "2024-04-15T17:34:09.944Z"
   },
   {
    "duration": 539,
    "start_time": "2024-04-15T17:34:09.958Z"
   },
   {
    "duration": 590,
    "start_time": "2024-04-15T17:34:10.499Z"
   },
   {
    "duration": 3,
    "start_time": "2024-04-15T17:34:11.091Z"
   },
   {
    "duration": 504,
    "start_time": "2024-04-15T17:34:11.096Z"
   },
   {
    "duration": 467,
    "start_time": "2024-04-15T17:34:11.602Z"
   },
   {
    "duration": 529,
    "start_time": "2024-04-15T17:34:12.071Z"
   },
   {
    "duration": 33,
    "start_time": "2024-04-15T17:34:12.601Z"
   },
   {
    "duration": 18,
    "start_time": "2024-04-15T17:34:12.636Z"
   },
   {
    "duration": 3,
    "start_time": "2024-04-15T17:34:13.575Z"
   },
   {
    "duration": 3,
    "start_time": "2024-04-15T17:34:14.277Z"
   },
   {
    "duration": 1011,
    "start_time": "2024-04-15T17:34:15.035Z"
   },
   {
    "duration": 15,
    "start_time": "2024-04-15T17:34:31.322Z"
   },
   {
    "duration": 1498,
    "start_time": "2024-04-15T17:34:40.295Z"
   },
   {
    "duration": 1091,
    "start_time": "2024-04-15T17:34:41.795Z"
   },
   {
    "duration": 44,
    "start_time": "2024-04-15T17:34:42.888Z"
   },
   {
    "duration": 154,
    "start_time": "2024-04-15T17:34:42.934Z"
   },
   {
    "duration": 375,
    "start_time": "2024-04-15T17:34:43.090Z"
   },
   {
    "duration": 86,
    "start_time": "2024-04-15T17:34:43.467Z"
   },
   {
    "duration": 394,
    "start_time": "2024-04-15T17:34:43.555Z"
   },
   {
    "duration": 756,
    "start_time": "2024-04-15T17:34:43.952Z"
   },
   {
    "duration": 555,
    "start_time": "2024-04-15T17:34:44.710Z"
   },
   {
    "duration": 21,
    "start_time": "2024-04-15T17:34:45.267Z"
   },
   {
    "duration": 521,
    "start_time": "2024-04-15T17:34:45.290Z"
   },
   {
    "duration": 523,
    "start_time": "2024-04-15T17:34:45.813Z"
   },
   {
    "duration": 3,
    "start_time": "2024-04-15T17:34:46.338Z"
   },
   {
    "duration": 558,
    "start_time": "2024-04-15T17:34:46.343Z"
   },
   {
    "duration": 479,
    "start_time": "2024-04-15T17:34:46.903Z"
   },
   {
    "duration": 502,
    "start_time": "2024-04-15T17:34:47.384Z"
   },
   {
    "duration": 41,
    "start_time": "2024-04-15T17:34:47.889Z"
   },
   {
    "duration": 17,
    "start_time": "2024-04-15T17:34:47.931Z"
   },
   {
    "duration": 2,
    "start_time": "2024-04-15T17:34:56.016Z"
   },
   {
    "duration": 3,
    "start_time": "2024-04-15T17:34:56.378Z"
   },
   {
    "duration": 424,
    "start_time": "2024-04-15T17:34:56.894Z"
   },
   {
    "duration": 416,
    "start_time": "2024-04-15T17:35:22.086Z"
   },
   {
    "duration": 259,
    "start_time": "2024-04-15T17:35:43.606Z"
   },
   {
    "duration": 341,
    "start_time": "2024-04-15T17:36:02.282Z"
   },
   {
    "duration": 43,
    "start_time": "2024-04-15T17:36:43.256Z"
   },
   {
    "duration": 45,
    "start_time": "2024-04-15T17:36:50.337Z"
   },
   {
    "duration": 1343,
    "start_time": "2024-04-15T17:37:05.413Z"
   },
   {
    "duration": 1088,
    "start_time": "2024-04-15T17:37:06.758Z"
   },
   {
    "duration": 60,
    "start_time": "2024-04-15T17:37:07.848Z"
   },
   {
    "duration": 154,
    "start_time": "2024-04-15T17:37:07.910Z"
   },
   {
    "duration": 386,
    "start_time": "2024-04-15T17:37:08.065Z"
   },
   {
    "duration": 92,
    "start_time": "2024-04-15T17:37:08.452Z"
   },
   {
    "duration": 382,
    "start_time": "2024-04-15T17:37:08.546Z"
   },
   {
    "duration": 807,
    "start_time": "2024-04-15T17:37:08.930Z"
   },
   {
    "duration": 551,
    "start_time": "2024-04-15T17:37:09.739Z"
   },
   {
    "duration": 10,
    "start_time": "2024-04-15T17:37:10.292Z"
   },
   {
    "duration": 537,
    "start_time": "2024-04-15T17:37:10.304Z"
   },
   {
    "duration": 521,
    "start_time": "2024-04-15T17:37:10.843Z"
   },
   {
    "duration": 4,
    "start_time": "2024-04-15T17:37:11.366Z"
   },
   {
    "duration": 556,
    "start_time": "2024-04-15T17:37:11.381Z"
   },
   {
    "duration": 482,
    "start_time": "2024-04-15T17:37:11.938Z"
   },
   {
    "duration": 499,
    "start_time": "2024-04-15T17:37:12.422Z"
   },
   {
    "duration": 32,
    "start_time": "2024-04-15T17:37:12.923Z"
   },
   {
    "duration": 32,
    "start_time": "2024-04-15T17:37:12.957Z"
   },
   {
    "duration": 3,
    "start_time": "2024-04-15T17:37:12.991Z"
   },
   {
    "duration": 2,
    "start_time": "2024-04-15T17:37:13.048Z"
   },
   {
    "duration": 402,
    "start_time": "2024-04-15T17:37:13.225Z"
   },
   {
    "duration": 115,
    "start_time": "2024-04-15T17:37:13.628Z"
   },
   {
    "duration": 0,
    "start_time": "2024-04-15T17:37:13.745Z"
   },
   {
    "duration": 8,
    "start_time": "2024-04-15T17:37:13.790Z"
   },
   {
    "duration": 10,
    "start_time": "2024-04-15T17:37:14.033Z"
   },
   {
    "duration": 210,
    "start_time": "2024-04-15T17:37:39.911Z"
   },
   {
    "duration": 49,
    "start_time": "2024-04-15T17:37:49.212Z"
   },
   {
    "duration": 206,
    "start_time": "2024-04-15T17:37:54.713Z"
   },
   {
    "duration": 6,
    "start_time": "2024-04-15T17:41:10.193Z"
   },
   {
    "duration": 5,
    "start_time": "2024-04-15T17:41:42.050Z"
   },
   {
    "duration": 11,
    "start_time": "2024-04-15T17:44:27.420Z"
   },
   {
    "duration": 15322,
    "start_time": "2024-04-15T17:44:45.472Z"
   },
   {
    "duration": 199,
    "start_time": "2024-04-15T17:47:44.405Z"
   },
   {
    "duration": 252,
    "start_time": "2024-04-15T17:47:53.068Z"
   },
   {
    "duration": 204,
    "start_time": "2024-04-15T17:49:53.714Z"
   },
   {
    "duration": 14218,
    "start_time": "2024-04-15T17:50:48.570Z"
   },
   {
    "duration": 6,
    "start_time": "2024-04-15T17:52:20.720Z"
   },
   {
    "duration": 13864,
    "start_time": "2024-04-15T17:52:24.420Z"
   },
   {
    "duration": 14669,
    "start_time": "2024-04-15T17:53:05.516Z"
   },
   {
    "duration": 3,
    "start_time": "2024-04-15T17:56:58.768Z"
   },
   {
    "duration": 9,
    "start_time": "2024-04-15T17:57:12.131Z"
   },
   {
    "duration": 13613,
    "start_time": "2024-04-15T17:57:12.882Z"
   },
   {
    "duration": 13,
    "start_time": "2024-04-15T18:11:53.119Z"
   },
   {
    "duration": 9685,
    "start_time": "2024-04-15T18:12:03.903Z"
   },
   {
    "duration": 3,
    "start_time": "2024-04-15T18:15:35.723Z"
   },
   {
    "duration": 9581,
    "start_time": "2024-04-15T18:15:41.192Z"
   },
   {
    "duration": 9796,
    "start_time": "2024-04-15T18:18:54.817Z"
   },
   {
    "duration": 205,
    "start_time": "2024-04-15T18:21:08.152Z"
   },
   {
    "duration": 9439,
    "start_time": "2024-04-15T18:21:13.503Z"
   },
   {
    "duration": 30,
    "start_time": "2024-04-15T18:21:44.471Z"
   },
   {
    "duration": 26,
    "start_time": "2024-04-15T18:24:26.092Z"
   },
   {
    "duration": 50,
    "start_time": "2024-04-15T18:24:32.673Z"
   },
   {
    "duration": 32020,
    "start_time": "2024-04-15T18:24:33.592Z"
   },
   {
    "duration": 13,
    "start_time": "2024-04-15T18:29:11.595Z"
   },
   {
    "duration": 125,
    "start_time": "2024-04-15T18:29:55.067Z"
   },
   {
    "duration": 122,
    "start_time": "2024-04-15T18:30:37.726Z"
   },
   {
    "duration": 33199,
    "start_time": "2024-04-15T18:31:14.588Z"
   },
   {
    "duration": 667,
    "start_time": "2024-04-15T18:37:23.088Z"
   },
   {
    "duration": 1496,
    "start_time": "2024-04-15T18:37:46.610Z"
   },
   {
    "duration": 1162,
    "start_time": "2024-04-15T18:37:48.108Z"
   },
   {
    "duration": 47,
    "start_time": "2024-04-15T18:37:49.272Z"
   },
   {
    "duration": 161,
    "start_time": "2024-04-15T18:37:49.321Z"
   },
   {
    "duration": 393,
    "start_time": "2024-04-15T18:37:49.484Z"
   },
   {
    "duration": 111,
    "start_time": "2024-04-15T18:37:49.881Z"
   },
   {
    "duration": 425,
    "start_time": "2024-04-15T18:37:49.995Z"
   },
   {
    "duration": 739,
    "start_time": "2024-04-15T18:37:50.421Z"
   },
   {
    "duration": 603,
    "start_time": "2024-04-15T18:37:51.162Z"
   },
   {
    "duration": 18,
    "start_time": "2024-04-15T18:37:51.766Z"
   },
   {
    "duration": 585,
    "start_time": "2024-04-15T18:37:51.786Z"
   },
   {
    "duration": 599,
    "start_time": "2024-04-15T18:37:52.373Z"
   },
   {
    "duration": 10,
    "start_time": "2024-04-15T18:37:52.974Z"
   },
   {
    "duration": 624,
    "start_time": "2024-04-15T18:37:52.986Z"
   },
   {
    "duration": 519,
    "start_time": "2024-04-15T18:37:53.611Z"
   },
   {
    "duration": 558,
    "start_time": "2024-04-15T18:37:54.132Z"
   },
   {
    "duration": 34,
    "start_time": "2024-04-15T18:37:54.692Z"
   },
   {
    "duration": 18,
    "start_time": "2024-04-15T18:37:54.728Z"
   },
   {
    "duration": 33,
    "start_time": "2024-04-15T18:37:54.749Z"
   },
   {
    "duration": 2,
    "start_time": "2024-04-15T18:37:55.046Z"
   },
   {
    "duration": 411,
    "start_time": "2024-04-15T18:37:55.240Z"
   },
   {
    "duration": 236,
    "start_time": "2024-04-15T18:37:55.654Z"
   },
   {
    "duration": 229,
    "start_time": "2024-04-15T18:37:55.892Z"
   },
   {
    "duration": 5,
    "start_time": "2024-04-15T18:37:56.123Z"
   },
   {
    "duration": 1797,
    "start_time": "2024-04-15T18:37:56.538Z"
   },
   {
    "duration": 0,
    "start_time": "2024-04-15T18:37:58.337Z"
   },
   {
    "duration": 0,
    "start_time": "2024-04-15T18:37:58.339Z"
   },
   {
    "duration": 0,
    "start_time": "2024-04-15T18:37:58.340Z"
   },
   {
    "duration": 3,
    "start_time": "2024-04-15T18:39:38.819Z"
   },
   {
    "duration": 458,
    "start_time": "2024-04-15T18:39:41.023Z"
   },
   {
    "duration": 290,
    "start_time": "2024-04-15T18:39:41.699Z"
   },
   {
    "duration": 210,
    "start_time": "2024-04-15T18:39:42.700Z"
   },
   {
    "duration": 8,
    "start_time": "2024-04-15T18:39:43.486Z"
   },
   {
    "duration": 21460,
    "start_time": "2024-04-15T18:39:44.425Z"
   },
   {
    "duration": 64,
    "start_time": "2024-04-15T18:40:10.095Z"
   },
   {
    "duration": 118,
    "start_time": "2024-04-15T18:40:10.903Z"
   },
   {
    "duration": 655,
    "start_time": "2024-04-15T18:40:12.363Z"
   },
   {
    "duration": 615,
    "start_time": "2024-04-15T18:45:13.469Z"
   },
   {
    "duration": 5,
    "start_time": "2024-04-15T18:45:54.103Z"
   },
   {
    "duration": 20,
    "start_time": "2024-04-15T18:46:03.072Z"
   },
   {
    "duration": 7,
    "start_time": "2024-04-15T18:46:35.982Z"
   },
   {
    "duration": 631,
    "start_time": "2024-04-15T18:47:00.714Z"
   },
   {
    "duration": 7,
    "start_time": "2024-04-15T18:47:41.177Z"
   },
   {
    "duration": 8,
    "start_time": "2024-04-15T18:47:58.926Z"
   },
   {
    "duration": 17,
    "start_time": "2024-04-15T18:48:39.408Z"
   },
   {
    "duration": 23,
    "start_time": "2024-04-15T18:49:02.936Z"
   },
   {
    "duration": 27,
    "start_time": "2024-04-15T18:49:42.764Z"
   },
   {
    "duration": 11,
    "start_time": "2024-04-15T18:52:38.730Z"
   },
   {
    "duration": 756,
    "start_time": "2024-04-15T18:52:42.461Z"
   },
   {
    "duration": 2050045,
    "start_time": "2024-04-15T18:54:09.947Z"
   },
   {
    "duration": 4401,
    "start_time": "2024-04-15T19:31:26.392Z"
   },
   {
    "duration": 14,
    "start_time": "2024-04-15T19:33:33.733Z"
   },
   {
    "duration": 1394,
    "start_time": "2024-04-15T19:35:46.181Z"
   },
   {
    "duration": 1085,
    "start_time": "2024-04-15T19:35:47.577Z"
   },
   {
    "duration": 44,
    "start_time": "2024-04-15T19:35:48.664Z"
   },
   {
    "duration": 144,
    "start_time": "2024-04-15T19:35:48.710Z"
   },
   {
    "duration": 340,
    "start_time": "2024-04-15T19:35:48.856Z"
   },
   {
    "duration": 101,
    "start_time": "2024-04-15T19:35:49.198Z"
   },
   {
    "duration": 390,
    "start_time": "2024-04-15T19:35:49.301Z"
   },
   {
    "duration": 708,
    "start_time": "2024-04-15T19:35:49.693Z"
   },
   {
    "duration": 517,
    "start_time": "2024-04-15T19:35:50.403Z"
   },
   {
    "duration": 10,
    "start_time": "2024-04-15T19:35:50.922Z"
   },
   {
    "duration": 563,
    "start_time": "2024-04-15T19:35:50.935Z"
   },
   {
    "duration": 530,
    "start_time": "2024-04-15T19:35:51.500Z"
   },
   {
    "duration": 3,
    "start_time": "2024-04-15T19:35:52.032Z"
   },
   {
    "duration": 581,
    "start_time": "2024-04-15T19:35:52.037Z"
   },
   {
    "duration": 498,
    "start_time": "2024-04-15T19:35:52.620Z"
   },
   {
    "duration": 498,
    "start_time": "2024-04-15T19:35:53.119Z"
   },
   {
    "duration": 33,
    "start_time": "2024-04-15T19:35:53.619Z"
   },
   {
    "duration": 35,
    "start_time": "2024-04-15T19:35:53.654Z"
   },
   {
    "duration": 2,
    "start_time": "2024-04-15T19:35:53.691Z"
   },
   {
    "duration": 2,
    "start_time": "2024-04-15T19:35:53.769Z"
   },
   {
    "duration": 423,
    "start_time": "2024-04-15T19:35:53.971Z"
   },
   {
    "duration": 221,
    "start_time": "2024-04-15T19:35:54.396Z"
   },
   {
    "duration": 208,
    "start_time": "2024-04-15T19:35:54.618Z"
   },
   {
    "duration": 6,
    "start_time": "2024-04-15T19:35:54.827Z"
   },
   {
    "duration": 18459,
    "start_time": "2024-04-15T19:35:55.329Z"
   },
   {
    "duration": 115,
    "start_time": "2024-04-15T19:36:13.790Z"
   },
   {
    "duration": 65,
    "start_time": "2024-04-15T19:36:18.521Z"
   },
   {
    "duration": 114,
    "start_time": "2024-04-15T19:36:19.787Z"
   },
   {
    "duration": 110,
    "start_time": "2024-04-15T19:36:22.897Z"
   },
   {
    "duration": 688,
    "start_time": "2024-04-15T19:36:30.980Z"
   },
   {
    "duration": 516817,
    "start_time": "2024-04-15T19:36:37.672Z"
   },
   {
    "duration": 133047,
    "start_time": "2024-04-15T19:48:01.850Z"
   },
   {
    "duration": 177331,
    "start_time": "2024-04-15T19:55:32.060Z"
   },
   {
    "duration": 3736,
    "start_time": "2024-04-15T20:00:44.942Z"
   },
   {
    "duration": 23,
    "start_time": "2024-04-15T20:21:31.787Z"
   },
   {
    "duration": 5,
    "start_time": "2024-04-15T20:21:46.242Z"
   },
   {
    "duration": 4,
    "start_time": "2024-04-15T20:22:02.096Z"
   },
   {
    "duration": 6,
    "start_time": "2024-04-15T20:22:18.983Z"
   },
   {
    "duration": 18,
    "start_time": "2024-04-15T20:22:25.823Z"
   },
   {
    "duration": 13,
    "start_time": "2024-04-15T20:22:30.436Z"
   },
   {
    "duration": 15,
    "start_time": "2024-04-15T20:22:41.372Z"
   },
   {
    "duration": 17,
    "start_time": "2024-04-15T20:22:46.367Z"
   },
   {
    "duration": 15,
    "start_time": "2024-04-15T20:22:54.139Z"
   },
   {
    "duration": 5,
    "start_time": "2024-04-15T20:23:03.727Z"
   },
   {
    "duration": 14,
    "start_time": "2024-04-15T20:23:13.002Z"
   },
   {
    "duration": 7,
    "start_time": "2024-04-15T20:23:15.941Z"
   },
   {
    "duration": 6,
    "start_time": "2024-04-15T20:23:22.648Z"
   },
   {
    "duration": 5,
    "start_time": "2024-04-15T20:23:44.757Z"
   },
   {
    "duration": 5,
    "start_time": "2024-04-15T20:23:52.774Z"
   },
   {
    "duration": 5,
    "start_time": "2024-04-15T20:23:56.984Z"
   },
   {
    "duration": 6,
    "start_time": "2024-04-15T20:24:10.774Z"
   },
   {
    "duration": 4,
    "start_time": "2024-04-15T20:24:16.285Z"
   },
   {
    "duration": 6,
    "start_time": "2024-04-15T20:24:24.480Z"
   },
   {
    "duration": 5,
    "start_time": "2024-04-15T20:24:31.090Z"
   },
   {
    "duration": 5,
    "start_time": "2024-04-15T20:24:41.302Z"
   },
   {
    "duration": 4,
    "start_time": "2024-04-15T20:24:53.303Z"
   },
   {
    "duration": 4,
    "start_time": "2024-04-15T20:24:59.067Z"
   },
   {
    "duration": 5,
    "start_time": "2024-04-15T20:25:06.307Z"
   },
   {
    "duration": 4,
    "start_time": "2024-04-15T20:25:20.710Z"
   },
   {
    "duration": 5,
    "start_time": "2024-04-15T20:25:24.538Z"
   },
   {
    "duration": 4,
    "start_time": "2024-04-15T20:25:29.091Z"
   },
   {
    "duration": 5,
    "start_time": "2024-04-15T20:25:32.834Z"
   },
   {
    "duration": 5,
    "start_time": "2024-04-15T20:25:41.385Z"
   },
   {
    "duration": 1389,
    "start_time": "2024-04-15T20:40:51.205Z"
   },
   {
    "duration": 1055,
    "start_time": "2024-04-15T20:40:52.596Z"
   },
   {
    "duration": 44,
    "start_time": "2024-04-15T20:40:53.652Z"
   },
   {
    "duration": 140,
    "start_time": "2024-04-15T20:40:53.698Z"
   },
   {
    "duration": 338,
    "start_time": "2024-04-15T20:40:53.841Z"
   },
   {
    "duration": 79,
    "start_time": "2024-04-15T20:40:54.181Z"
   },
   {
    "duration": 374,
    "start_time": "2024-04-15T20:40:54.262Z"
   },
   {
    "duration": 821,
    "start_time": "2024-04-15T20:40:54.638Z"
   },
   {
    "duration": 527,
    "start_time": "2024-04-15T20:40:55.461Z"
   },
   {
    "duration": 9,
    "start_time": "2024-04-15T20:40:55.989Z"
   },
   {
    "duration": 556,
    "start_time": "2024-04-15T20:40:56.000Z"
   },
   {
    "duration": 500,
    "start_time": "2024-04-15T20:40:56.557Z"
   },
   {
    "duration": 3,
    "start_time": "2024-04-15T20:40:57.059Z"
   },
   {
    "duration": 527,
    "start_time": "2024-04-15T20:40:57.065Z"
   },
   {
    "duration": 493,
    "start_time": "2024-04-15T20:40:57.593Z"
   },
   {
    "duration": 479,
    "start_time": "2024-04-15T20:40:58.087Z"
   },
   {
    "duration": 39,
    "start_time": "2024-04-15T20:40:58.568Z"
   },
   {
    "duration": 19,
    "start_time": "2024-04-15T20:40:58.608Z"
   },
   {
    "duration": 4,
    "start_time": "2024-04-15T20:40:58.629Z"
   },
   {
    "duration": 4,
    "start_time": "2024-04-15T20:40:58.634Z"
   },
   {
    "duration": 422,
    "start_time": "2024-04-15T20:40:58.639Z"
   },
   {
    "duration": 229,
    "start_time": "2024-04-15T20:40:59.063Z"
   },
   {
    "duration": 214,
    "start_time": "2024-04-15T20:40:59.294Z"
   },
   {
    "duration": 5,
    "start_time": "2024-04-15T20:40:59.509Z"
   },
   {
    "duration": 14766,
    "start_time": "2024-04-15T20:40:59.516Z"
   },
   {
    "duration": 27,
    "start_time": "2024-04-15T20:41:14.283Z"
   },
   {
    "duration": 50,
    "start_time": "2024-04-15T20:41:14.312Z"
   },
   {
    "duration": 136,
    "start_time": "2024-04-15T20:41:14.363Z"
   },
   {
    "duration": 674,
    "start_time": "2024-04-15T20:41:14.500Z"
   },
   {
    "duration": 35214,
    "start_time": "2024-04-15T20:41:15.176Z"
   },
   {
    "duration": 2299,
    "start_time": "2024-04-15T20:41:50.391Z"
   },
   {
    "duration": 175003,
    "start_time": "2024-04-15T20:41:52.692Z"
   },
   {
    "duration": 3820,
    "start_time": "2024-04-15T20:44:47.697Z"
   },
   {
    "duration": 4,
    "start_time": "2024-04-15T20:44:51.519Z"
   },
   {
    "duration": 5,
    "start_time": "2024-04-15T22:56:16.601Z"
   },
   {
    "duration": 1435,
    "start_time": "2024-04-15T22:56:23.697Z"
   },
   {
    "duration": 1089,
    "start_time": "2024-04-15T22:56:26.567Z"
   },
   {
    "duration": 38,
    "start_time": "2024-04-15T22:56:29.488Z"
   },
   {
    "duration": 145,
    "start_time": "2024-04-15T22:56:30.511Z"
   },
   {
    "duration": 215,
    "start_time": "2024-04-15T23:07:02.499Z"
   },
   {
    "duration": 37,
    "start_time": "2024-04-15T23:09:18.715Z"
   },
   {
    "duration": 218,
    "start_time": "2024-04-15T23:13:16.087Z"
   },
   {
    "duration": 107,
    "start_time": "2024-04-15T23:14:21.261Z"
   },
   {
    "duration": 193,
    "start_time": "2024-04-15T23:17:36.460Z"
   },
   {
    "duration": 382,
    "start_time": "2024-04-15T23:18:05.706Z"
   },
   {
    "duration": 731,
    "start_time": "2024-04-15T23:18:07.171Z"
   },
   {
    "duration": 657,
    "start_time": "2024-04-15T23:18:16.730Z"
   },
   {
    "duration": 11,
    "start_time": "2024-04-15T23:18:35.220Z"
   },
   {
    "duration": 665,
    "start_time": "2024-04-15T23:18:41.227Z"
   },
   {
    "duration": 639,
    "start_time": "2024-04-15T23:18:56.048Z"
   },
   {
    "duration": 3,
    "start_time": "2024-04-15T23:19:03.676Z"
   },
   {
    "duration": 667,
    "start_time": "2024-04-15T23:19:26.816Z"
   },
   {
    "duration": 15,
    "start_time": "2024-04-15T23:21:10.318Z"
   },
   {
    "duration": 587,
    "start_time": "2024-04-15T23:23:00.057Z"
   },
   {
    "duration": 597,
    "start_time": "2024-04-15T23:23:06.445Z"
   },
   {
    "duration": 42,
    "start_time": "2024-04-15T23:23:21.163Z"
   },
   {
    "duration": 18,
    "start_time": "2024-04-15T23:23:28.050Z"
   },
   {
    "duration": 3,
    "start_time": "2024-04-15T23:23:47.306Z"
   },
   {
    "duration": 3,
    "start_time": "2024-04-15T23:23:56.738Z"
   },
   {
    "duration": 581,
    "start_time": "2024-04-15T23:24:03.973Z"
   },
   {
    "duration": 120,
    "start_time": "2024-04-15T23:30:14.688Z"
   },
   {
    "duration": 340,
    "start_time": "2024-04-15T23:31:24.135Z"
   },
   {
    "duration": 180,
    "start_time": "2024-04-15T23:33:39.940Z"
   },
   {
    "duration": 6,
    "start_time": "2024-04-15T23:34:23.168Z"
   },
   {
    "duration": 20364,
    "start_time": "2024-04-15T23:39:18.018Z"
   },
   {
    "duration": 68,
    "start_time": "2024-04-15T23:40:01.851Z"
   },
   {
    "duration": 186,
    "start_time": "2024-04-15T23:40:05.974Z"
   },
   {
    "duration": 27,
    "start_time": "2024-04-15T23:40:11.547Z"
   },
   {
    "duration": 685,
    "start_time": "2024-04-15T23:40:30.267Z"
   },
   {
    "duration": 27,
    "start_time": "2024-04-15T23:40:47.084Z"
   },
   {
    "duration": 893,
    "start_time": "2024-04-15T23:41:21.995Z"
   },
   {
    "duration": 44722,
    "start_time": "2024-04-15T23:41:39.676Z"
   },
   {
    "duration": 2695,
    "start_time": "2024-04-15T23:42:24.400Z"
   },
   {
    "duration": 234627,
    "start_time": "2024-04-15T23:42:27.097Z"
   },
   {
    "duration": 5365,
    "start_time": "2024-04-15T23:46:21.727Z"
   },
   {
    "duration": 4,
    "start_time": "2024-04-15T23:48:09.563Z"
   },
   {
    "duration": 13,
    "start_time": "2024-04-15T23:51:25.359Z"
   },
   {
    "duration": 2096,
    "start_time": "2024-04-15T23:52:24.745Z"
   },
   {
    "duration": 5408,
    "start_time": "2024-04-15T23:54:29.040Z"
   },
   {
    "duration": 5290,
    "start_time": "2024-04-15T23:55:15.292Z"
   },
   {
    "duration": 1378,
    "start_time": "2024-04-15T23:55:53.903Z"
   },
   {
    "duration": 1030,
    "start_time": "2024-04-15T23:55:55.282Z"
   },
   {
    "duration": 37,
    "start_time": "2024-04-15T23:55:56.314Z"
   },
   {
    "duration": 146,
    "start_time": "2024-04-15T23:55:56.353Z"
   },
   {
    "duration": 188,
    "start_time": "2024-04-15T23:55:56.501Z"
   },
   {
    "duration": 35,
    "start_time": "2024-04-15T23:55:56.852Z"
   },
   {
    "duration": 200,
    "start_time": "2024-04-15T23:55:57.298Z"
   },
   {
    "duration": 107,
    "start_time": "2024-04-15T23:55:58.700Z"
   },
   {
    "duration": 193,
    "start_time": "2024-04-15T23:55:59.131Z"
   },
   {
    "duration": 395,
    "start_time": "2024-04-15T23:55:59.557Z"
   },
   {
    "duration": 765,
    "start_time": "2024-04-15T23:55:59.953Z"
   },
   {
    "duration": 674,
    "start_time": "2024-04-15T23:56:00.720Z"
   },
   {
    "duration": 12,
    "start_time": "2024-04-15T23:56:01.396Z"
   },
   {
    "duration": 698,
    "start_time": "2024-04-15T23:56:01.419Z"
   },
   {
    "duration": 641,
    "start_time": "2024-04-15T23:56:02.119Z"
   },
   {
    "duration": 3,
    "start_time": "2024-04-15T23:56:02.761Z"
   },
   {
    "duration": 625,
    "start_time": "2024-04-15T23:56:02.925Z"
   },
   {
    "duration": 16,
    "start_time": "2024-04-15T23:56:03.650Z"
   },
   {
    "duration": 551,
    "start_time": "2024-04-15T23:56:05.613Z"
   },
   {
    "duration": 625,
    "start_time": "2024-04-15T23:56:06.166Z"
   },
   {
    "duration": 34,
    "start_time": "2024-04-15T23:56:06.950Z"
   },
   {
    "duration": 28,
    "start_time": "2024-04-15T23:56:07.953Z"
   },
   {
    "duration": 3,
    "start_time": "2024-04-15T23:56:13.033Z"
   },
   {
    "duration": 3,
    "start_time": "2024-04-15T23:56:13.581Z"
   },
   {
    "duration": 594,
    "start_time": "2024-04-15T23:56:14.258Z"
   },
   {
    "duration": 341,
    "start_time": "2024-04-15T23:56:17.106Z"
   },
   {
    "duration": 192,
    "start_time": "2024-04-15T23:56:18.160Z"
   },
   {
    "duration": 5,
    "start_time": "2024-04-15T23:56:22.887Z"
   },
   {
    "duration": 20547,
    "start_time": "2024-04-15T23:56:36.078Z"
   },
   {
    "duration": 5,
    "start_time": "2024-04-16T00:00:06.852Z"
   },
   {
    "duration": 19521,
    "start_time": "2024-04-16T00:00:08.372Z"
   },
   {
    "duration": 5,
    "start_time": "2024-04-16T00:05:58.497Z"
   },
   {
    "duration": 6,
    "start_time": "2024-04-16T00:06:02.543Z"
   },
   {
    "duration": 20616,
    "start_time": "2024-04-16T00:06:25.467Z"
   },
   {
    "duration": 76,
    "start_time": "2024-04-16T00:07:16.432Z"
   },
   {
    "duration": 183,
    "start_time": "2024-04-16T00:07:17.545Z"
   },
   {
    "duration": 882,
    "start_time": "2024-04-16T00:07:25.066Z"
   },
   {
    "duration": 43882,
    "start_time": "2024-04-16T00:07:33.008Z"
   },
   {
    "duration": 3092,
    "start_time": "2024-04-16T00:09:09.015Z"
   },
   {
    "duration": 238252,
    "start_time": "2024-04-16T00:09:35.717Z"
   },
   {
    "duration": 5493,
    "start_time": "2024-04-16T00:13:43.393Z"
   },
   {
    "duration": 4,
    "start_time": "2024-04-16T00:14:37.902Z"
   },
   {
    "duration": 5679,
    "start_time": "2024-04-16T00:14:58.869Z"
   },
   {
    "duration": 5358,
    "start_time": "2024-04-16T00:26:17.178Z"
   },
   {
    "duration": 73,
    "start_time": "2024-04-16T00:28:01.819Z"
   },
   {
    "duration": 89,
    "start_time": "2024-04-16T00:28:49.829Z"
   },
   {
    "duration": 105,
    "start_time": "2024-04-16T00:29:05.384Z"
   },
   {
    "duration": 90,
    "start_time": "2024-04-16T00:32:38.669Z"
   },
   {
    "duration": 1485,
    "start_time": "2024-04-16T00:33:50.198Z"
   },
   {
    "duration": 1089,
    "start_time": "2024-04-16T00:33:51.685Z"
   },
   {
    "duration": 45,
    "start_time": "2024-04-16T00:33:52.775Z"
   },
   {
    "duration": 143,
    "start_time": "2024-04-16T00:33:52.821Z"
   },
   {
    "duration": 206,
    "start_time": "2024-04-16T00:33:52.966Z"
   },
   {
    "duration": 42,
    "start_time": "2024-04-16T00:33:53.174Z"
   },
   {
    "duration": 209,
    "start_time": "2024-04-16T00:33:53.218Z"
   },
   {
    "duration": 108,
    "start_time": "2024-04-16T00:33:53.429Z"
   },
   {
    "duration": 200,
    "start_time": "2024-04-16T00:33:53.538Z"
   },
   {
    "duration": 414,
    "start_time": "2024-04-16T00:33:53.740Z"
   },
   {
    "duration": 736,
    "start_time": "2024-04-16T00:33:54.156Z"
   },
   {
    "duration": 651,
    "start_time": "2024-04-16T00:33:54.893Z"
   },
   {
    "duration": 11,
    "start_time": "2024-04-16T00:33:55.545Z"
   },
   {
    "duration": 705,
    "start_time": "2024-04-16T00:33:55.558Z"
   },
   {
    "duration": 626,
    "start_time": "2024-04-16T00:33:56.264Z"
   },
   {
    "duration": 4,
    "start_time": "2024-04-16T00:33:56.891Z"
   },
   {
    "duration": 656,
    "start_time": "2024-04-16T00:33:56.896Z"
   },
   {
    "duration": 14,
    "start_time": "2024-04-16T00:33:57.554Z"
   },
   {
    "duration": 569,
    "start_time": "2024-04-16T00:33:57.569Z"
   },
   {
    "duration": 618,
    "start_time": "2024-04-16T00:33:58.140Z"
   },
   {
    "duration": 45,
    "start_time": "2024-04-16T00:33:58.760Z"
   },
   {
    "duration": 18,
    "start_time": "2024-04-16T00:33:58.806Z"
   },
   {
    "duration": 2,
    "start_time": "2024-04-16T00:33:58.826Z"
   },
   {
    "duration": 15,
    "start_time": "2024-04-16T00:33:58.829Z"
   },
   {
    "duration": 554,
    "start_time": "2024-04-16T00:33:58.845Z"
   },
   {
    "duration": 347,
    "start_time": "2024-04-16T00:33:59.400Z"
   },
   {
    "duration": 207,
    "start_time": "2024-04-16T00:33:59.749Z"
   },
   {
    "duration": 5,
    "start_time": "2024-04-16T00:33:59.958Z"
   },
   {
    "duration": 19820,
    "start_time": "2024-04-16T00:33:59.964Z"
   },
   {
    "duration": 157,
    "start_time": "2024-04-16T00:34:19.788Z"
   },
   {
    "duration": 205,
    "start_time": "2024-04-16T00:34:19.946Z"
   },
   {
    "duration": 884,
    "start_time": "2024-04-16T00:34:20.153Z"
   },
   {
    "duration": 43349,
    "start_time": "2024-04-16T00:34:21.038Z"
   },
   {
    "duration": 3005,
    "start_time": "2024-04-16T00:35:04.389Z"
   },
   {
    "duration": 238662,
    "start_time": "2024-04-16T00:35:07.397Z"
   },
   {
    "duration": 7430,
    "start_time": "2024-04-16T00:39:06.061Z"
   },
   {
    "duration": 5,
    "start_time": "2024-04-16T00:39:13.492Z"
   },
   {
    "duration": 112,
    "start_time": "2024-04-16T00:39:13.498Z"
   },
   {
    "duration": 1555,
    "start_time": "2024-04-16T17:49:08.837Z"
   },
   {
    "duration": 3091,
    "start_time": "2024-04-16T17:49:12.044Z"
   },
   {
    "duration": 39,
    "start_time": "2024-04-16T17:49:16.566Z"
   },
   {
    "duration": 132,
    "start_time": "2024-04-16T17:49:17.017Z"
   },
   {
    "duration": 188,
    "start_time": "2024-04-16T17:49:17.413Z"
   },
   {
    "duration": 48,
    "start_time": "2024-04-16T17:49:17.785Z"
   },
   {
    "duration": 237,
    "start_time": "2024-04-16T17:49:18.186Z"
   },
   {
    "duration": 110,
    "start_time": "2024-04-16T17:49:19.147Z"
   },
   {
    "duration": 224,
    "start_time": "2024-04-16T17:49:19.580Z"
   },
   {
    "duration": 375,
    "start_time": "2024-04-16T17:49:19.995Z"
   },
   {
    "duration": 741,
    "start_time": "2024-04-16T17:49:20.372Z"
   },
   {
    "duration": 686,
    "start_time": "2024-04-16T17:49:21.115Z"
   },
   {
    "duration": 11,
    "start_time": "2024-04-16T17:49:21.803Z"
   },
   {
    "duration": 704,
    "start_time": "2024-04-16T17:49:21.815Z"
   },
   {
    "duration": 652,
    "start_time": "2024-04-16T17:49:22.520Z"
   },
   {
    "duration": 9,
    "start_time": "2024-04-16T17:49:23.174Z"
   },
   {
    "duration": 610,
    "start_time": "2024-04-16T17:49:23.185Z"
   },
   {
    "duration": 15,
    "start_time": "2024-04-16T17:49:23.796Z"
   },
   {
    "duration": 571,
    "start_time": "2024-04-16T17:49:24.071Z"
   },
   {
    "duration": 638,
    "start_time": "2024-04-16T17:49:24.644Z"
   },
   {
    "duration": 46,
    "start_time": "2024-04-16T17:49:25.286Z"
   },
   {
    "duration": 19,
    "start_time": "2024-04-16T17:49:32.019Z"
   },
   {
    "duration": 3,
    "start_time": "2024-04-16T17:50:14.479Z"
   },
   {
    "duration": 3,
    "start_time": "2024-04-16T17:50:15.301Z"
   },
   {
    "duration": 567,
    "start_time": "2024-04-16T17:50:20.470Z"
   },
   {
    "duration": 432,
    "start_time": "2024-04-16T17:54:48.713Z"
   },
   {
    "duration": 190,
    "start_time": "2024-04-16T17:55:31.621Z"
   },
   {
    "duration": 6,
    "start_time": "2024-04-16T17:55:45.639Z"
   },
   {
    "duration": 15967,
    "start_time": "2024-04-16T17:56:03.616Z"
   },
   {
    "duration": 93,
    "start_time": "2024-04-16T18:00:27.561Z"
   },
   {
    "duration": 192,
    "start_time": "2024-04-16T18:01:06.129Z"
   },
   {
    "duration": 807,
    "start_time": "2024-04-16T18:02:10.090Z"
   },
   {
    "duration": 36901,
    "start_time": "2024-04-16T18:02:30.788Z"
   },
   {
    "duration": 3006,
    "start_time": "2024-04-16T18:03:17.282Z"
   },
   {
    "duration": 199392,
    "start_time": "2024-04-16T18:04:21.041Z"
   },
   {
    "duration": 4388,
    "start_time": "2024-04-16T18:07:51.820Z"
   },
   {
    "duration": 4,
    "start_time": "2024-04-16T18:08:17.745Z"
   },
   {
    "duration": 73,
    "start_time": "2024-04-16T18:08:33.601Z"
   },
   {
    "duration": 1354,
    "start_time": "2024-04-16T18:10:37.431Z"
   },
   {
    "duration": 1088,
    "start_time": "2024-04-16T18:10:38.787Z"
   },
   {
    "duration": 45,
    "start_time": "2024-04-16T18:10:39.882Z"
   },
   {
    "duration": 153,
    "start_time": "2024-04-16T18:10:39.929Z"
   },
   {
    "duration": 193,
    "start_time": "2024-04-16T18:10:40.083Z"
   },
   {
    "duration": 37,
    "start_time": "2024-04-16T18:10:40.281Z"
   },
   {
    "duration": 213,
    "start_time": "2024-04-16T18:10:40.320Z"
   },
   {
    "duration": 108,
    "start_time": "2024-04-16T18:10:40.535Z"
   },
   {
    "duration": 198,
    "start_time": "2024-04-16T18:10:40.644Z"
   },
   {
    "duration": 393,
    "start_time": "2024-04-16T18:10:40.845Z"
   },
   {
    "duration": 744,
    "start_time": "2024-04-16T18:10:41.240Z"
   },
   {
    "duration": 678,
    "start_time": "2024-04-16T18:10:41.986Z"
   },
   {
    "duration": 22,
    "start_time": "2024-04-16T18:10:42.666Z"
   },
   {
    "duration": 734,
    "start_time": "2024-04-16T18:10:42.690Z"
   },
   {
    "duration": 620,
    "start_time": "2024-04-16T18:10:43.426Z"
   },
   {
    "duration": 3,
    "start_time": "2024-04-16T18:10:44.048Z"
   },
   {
    "duration": 633,
    "start_time": "2024-04-16T18:10:44.053Z"
   },
   {
    "duration": 16,
    "start_time": "2024-04-16T18:10:44.688Z"
   },
   {
    "duration": 563,
    "start_time": "2024-04-16T18:10:44.705Z"
   },
   {
    "duration": 634,
    "start_time": "2024-04-16T18:10:45.269Z"
   },
   {
    "duration": 38,
    "start_time": "2024-04-16T18:10:45.905Z"
   },
   {
    "duration": 47,
    "start_time": "2024-04-16T18:10:45.945Z"
   },
   {
    "duration": 3,
    "start_time": "2024-04-16T18:10:45.993Z"
   },
   {
    "duration": 14,
    "start_time": "2024-04-16T18:10:45.997Z"
   },
   {
    "duration": 592,
    "start_time": "2024-04-16T18:10:46.012Z"
   },
   {
    "duration": 439,
    "start_time": "2024-04-16T18:10:46.605Z"
   },
   {
    "duration": 187,
    "start_time": "2024-04-16T18:10:47.046Z"
   },
   {
    "duration": 5,
    "start_time": "2024-04-16T18:10:47.236Z"
   },
   {
    "duration": 17040,
    "start_time": "2024-04-16T18:10:47.243Z"
   },
   {
    "duration": 177,
    "start_time": "2024-04-16T18:11:04.285Z"
   },
   {
    "duration": 189,
    "start_time": "2024-04-16T18:11:04.463Z"
   },
   {
    "duration": 815,
    "start_time": "2024-04-16T18:11:04.654Z"
   },
   {
    "duration": 37118,
    "start_time": "2024-04-16T18:11:05.471Z"
   },
   {
    "duration": 2409,
    "start_time": "2024-04-16T18:11:42.591Z"
   },
   {
    "duration": 199629,
    "start_time": "2024-04-16T18:11:45.083Z"
   },
   {
    "duration": 4385,
    "start_time": "2024-04-16T18:15:04.714Z"
   },
   {
    "duration": 4,
    "start_time": "2024-04-16T18:15:09.101Z"
   },
   {
    "duration": 78,
    "start_time": "2024-04-16T18:15:09.107Z"
   }
  ],
  "kernelspec": {
   "display_name": "Python 3 (ipykernel)",
   "language": "python",
   "name": "python3"
  },
  "language_info": {
   "codemirror_mode": {
    "name": "ipython",
    "version": 3
   },
   "file_extension": ".py",
   "mimetype": "text/x-python",
   "name": "python",
   "nbconvert_exporter": "python",
   "pygments_lexer": "ipython3",
   "version": "3.9.5"
  },
  "toc": {
   "base_numbering": 1,
   "nav_menu": {},
   "number_sections": true,
   "sideBar": true,
   "skip_h1_title": true,
   "title_cell": "Table of Contents",
   "title_sidebar": "Contents",
   "toc_cell": false,
   "toc_position": {},
   "toc_section_display": true,
   "toc_window_display": false
  }
 },
 "nbformat": 4,
 "nbformat_minor": 2
}
